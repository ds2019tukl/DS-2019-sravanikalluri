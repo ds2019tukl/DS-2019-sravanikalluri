{
 "cells": [
  {
   "cell_type": "markdown",
   "metadata": {},
   "source": [
    "# Gas Prices effecting Car Prices"
   ]
  },
  {
   "cell_type": "markdown",
   "metadata": {},
   "source": [
    "### Table of Contents\n",
    "- 1. [Problem Statement](#section1)</br>\n",
    "    - 1.1 [Introduction](#section101)</br>\n",
    "    - 1.2 [Data source and data set](#section102)</br>\n",
    "- 2. [Load the packages and data](#section2)</br>\n",
    "- 3. [Data profiling](#section3)</br>\n",
    "    - 3.1 [dtypes](#section301)</br>\n",
    "    - 3.2 [head](#section302)</br>\n",
    "    - 3.3 [shape](#section303)</br>\n",
    "    - 3.4 [sample](#section304)</br>\n",
    "    - 3.5 [Pandas Pre Profiling](#section305)</br>\n",
    "    - 3.6 [Initial Observations](#section306)</br>\n",
    "    - 3.7 [Final Observations](#section307)</br>\n",
    "    - 3.8 [Pandas Post Profiling](#section308)</br>\n",
    "- 4. [Data Normalization](#section4)</br>   \n",
    "    - 4.1 [Renaming the STID column to 'ID' in fuel_prices DF and mergin with gas_station DF](#section401)</br>\n",
    "    - 4.2 [Converting Date to Time series object for indexing](#section402)</br>\n",
    "    - 4.3 [Adding Year, Month, Week, Day of Week to DF](#section403)</br>\n",
    "    - 4.5 [Subsetting BRAND and respective gasoline prices](#section404)</br>\n",
    "- 5. [EDA through Questions](#section5)</br>\n",
    "    - 5.1 [How many different stations exist in the data set and what is the existing history in days](#section501)</br>\n",
    "    - 5.2 [What is the min, mean, max price for each gasoline type and station weekly?](#section502)</br>\n",
    "    - 5.3 [What is the cheapest station __(in average)__ and why?](#section503)</br>\n",
    "    - 5.4 [At which day of a week is the price most likely the cheapest __(week profile)__?](#section504)</br>\n",
    "    - 5.5 [At which hour during a day is the price the cheapest in average __(hour profile)__?](#section505)</br>\n",
    "    - 5.6 [How many different station locations are present in the data __(visualize via a map)__?](#section506)</br>\n",
    "    - 5.7 [What is the gas station which has most price data points, choose one and draw the time series for all 3 gasoline types?](#section507)</br>\n",
    "    - 5.8 [At which hour during a day do we have the most price changes?](#section508)</br>\n",
    "    - 5.9 [Select 20 gas stations having the longest time history and visualize the average price per month. Use heatmap and only the prices between 12:00-13:00 of E10 and DIESEL](#section509)</br>\n",
    "    - 5.10 [Describe a possible business potential in Euros for the customer (textual description in the ipython file). Define the constraints of the business case 5 lines, the answer max 15 lines __(high level summary)__](#section510)</br>"
   ]
  },
  {
   "cell_type": "markdown",
   "metadata": {},
   "source": [
    "<a id=section1></a>\n",
    "## 1. Problem Statement\n",
    "\n",
    "\n",
    "Would knowing the gas prices in real time add any value to the company dealing with a fleet of cars, especially in their maintenance services\n",
    "\n",
    "<a id=section101></a>\n",
    "### 1.1 Introduction\n",
    "The OLAT System provides an extraction of data of gasoline prices in Germnay. The prices are real time and are available for analysis. We would like to know whether these prices hold any relevance in prices of cars.\n",
    "\n",
    "<a id=section102></a>\n",
    "### 1.2 Data Source and dataset\n",
    "__a__. Source of Data\n",
    "\n",
    "- __Name__: \"Tanker Konig\"\n",
    "- __API Endpoint__: https://creativecommons.tankerkoenig.de/"
   ]
  },
  {
   "cell_type": "markdown",
   "metadata": {},
   "source": [
    "<a id=section2></a>\n",
    "## 2. Load the packages and data"
   ]
  },
  {
   "cell_type": "code",
   "execution_count": 1,
   "metadata": {},
   "outputs": [],
   "source": [
    "import sys\n",
    "import numpy as np\n",
    "import pandas as pd\n",
    "import pandas_profiling\n",
    "import matplotlib.pyplot as plt\n",
    "import seaborn as sns\n",
    "import geopandas as gpd\n",
    "from shapely.geometry import Point,Polygon\n",
    "from pandas import Series\n",
    "import string\n",
    "from pandas import testing as pdt\n",
    "import unittest\n",
    "\n",
    "%matplotlib inline\n",
    "sns.set()\n",
    "\n",
    "gas_station = pd.read_csv(\"example_sprit_cut_station.csv\", delimiter=';')\n",
    "fuel_prices = pd.read_csv(\"example_sprit_cut_prices.csv\", delimiter=\";\")\n",
    "crs = {'init': 'epsg:4326'}\n"
   ]
  },
  {
   "cell_type": "markdown",
   "metadata": {},
   "source": [
    "<a id=section3></a>\n",
    "### 3. Data Profiling\n",
    "\n",
    "Let's first review what data types our variables are?</br>\n",
    "Do we need to transform any variable with respect to standards before we start analysis?"
   ]
  },
  {
   "cell_type": "markdown",
   "metadata": {},
   "source": [
    "<a id=section301></a>"
   ]
  },
  {
   "cell_type": "code",
   "execution_count": 2,
   "metadata": {},
   "outputs": [
    {
     "data": {
      "text/plain": [
       "ID                            object\n",
       "VERSION                        int64\n",
       "VERSION_TIME                  object\n",
       "NAME                          object\n",
       "BRAND                         object\n",
       "STREET                        object\n",
       "HOUSE_NUMBER                  object\n",
       "POST_CODE                     object\n",
       "PLACE                         object\n",
       "PUBLIC_HOLIDAY_IDENTIFIER     object\n",
       "LAT                          float64\n",
       "LNG                          float64\n",
       "dtype: object"
      ]
     },
     "execution_count": 2,
     "metadata": {},
     "output_type": "execute_result"
    }
   ],
   "source": [
    "gas_station.dtypes"
   ]
  },
  {
   "cell_type": "markdown",
   "metadata": {},
   "source": [
    "<a id=section302></a>"
   ]
  },
  {
   "cell_type": "code",
   "execution_count": 3,
   "metadata": {},
   "outputs": [
    {
     "data": {
      "text/plain": [
       "STID            object\n",
       "E5               int64\n",
       "E10              int64\n",
       "DIESEL           int64\n",
       "DATE_CHANGED    object\n",
       "CHANGED          int64\n",
       "dtype: object"
      ]
     },
     "execution_count": 3,
     "metadata": {},
     "output_type": "execute_result"
    }
   ],
   "source": [
    "fuel_prices.dtypes"
   ]
  },
  {
   "cell_type": "code",
   "execution_count": 4,
   "metadata": {},
   "outputs": [
    {
     "data": {
      "text/html": [
       "<div>\n",
       "<style scoped>\n",
       "    .dataframe tbody tr th:only-of-type {\n",
       "        vertical-align: middle;\n",
       "    }\n",
       "\n",
       "    .dataframe tbody tr th {\n",
       "        vertical-align: top;\n",
       "    }\n",
       "\n",
       "    .dataframe thead th {\n",
       "        text-align: right;\n",
       "    }\n",
       "</style>\n",
       "<table border=\"1\" class=\"dataframe\">\n",
       "  <thead>\n",
       "    <tr style=\"text-align: right;\">\n",
       "      <th></th>\n",
       "      <th>ID</th>\n",
       "      <th>VERSION</th>\n",
       "      <th>VERSION_TIME</th>\n",
       "      <th>NAME</th>\n",
       "      <th>BRAND</th>\n",
       "      <th>STREET</th>\n",
       "      <th>HOUSE_NUMBER</th>\n",
       "      <th>POST_CODE</th>\n",
       "      <th>PLACE</th>\n",
       "      <th>PUBLIC_HOLIDAY_IDENTIFIER</th>\n",
       "      <th>LAT</th>\n",
       "      <th>LNG</th>\n",
       "    </tr>\n",
       "  </thead>\n",
       "  <tbody>\n",
       "    <tr>\n",
       "      <th>0</th>\n",
       "      <td>d37bee76-91b6-485a-b974-24f1b0d391fa</td>\n",
       "      <td>4</td>\n",
       "      <td>2015-01-09 10:26:15.000000</td>\n",
       "      <td>Aral Tankstelle</td>\n",
       "      <td>ARAL</td>\n",
       "      <td>An der Tagweide</td>\n",
       "      <td>2</td>\n",
       "      <td>76139</td>\n",
       "      <td>Karlsruhe</td>\n",
       "      <td>\\N</td>\n",
       "      <td>49.020280</td>\n",
       "      <td>8.459429</td>\n",
       "    </tr>\n",
       "    <tr>\n",
       "      <th>1</th>\n",
       "      <td>51d4b652-a095-1aa0-e100-80009459e03a</td>\n",
       "      <td>796</td>\n",
       "      <td>2015-09-28 21:00:13.000000</td>\n",
       "      <td>JET MANNHEIM UNTERMUEHLAUSTRASSE 83</td>\n",
       "      <td>JET</td>\n",
       "      <td>UNTERMUEHLAUSTRASSE 83</td>\n",
       "      <td>\\N</td>\n",
       "      <td>68169</td>\n",
       "      <td>MANNHEIM</td>\n",
       "      <td>\\N</td>\n",
       "      <td>49.508962</td>\n",
       "      <td>8.467691</td>\n",
       "    </tr>\n",
       "  </tbody>\n",
       "</table>\n",
       "</div>"
      ],
      "text/plain": [
       "                                     ID  VERSION                VERSION_TIME  \\\n",
       "0  d37bee76-91b6-485a-b974-24f1b0d391fa        4  2015-01-09 10:26:15.000000   \n",
       "1  51d4b652-a095-1aa0-e100-80009459e03a      796  2015-09-28 21:00:13.000000   \n",
       "\n",
       "                                  NAME BRAND                  STREET  \\\n",
       "0                      Aral Tankstelle  ARAL         An der Tagweide   \n",
       "1  JET MANNHEIM UNTERMUEHLAUSTRASSE 83   JET  UNTERMUEHLAUSTRASSE 83   \n",
       "\n",
       "  HOUSE_NUMBER POST_CODE      PLACE PUBLIC_HOLIDAY_IDENTIFIER        LAT  \\\n",
       "0            2     76139  Karlsruhe                        \\N  49.020280   \n",
       "1           \\N     68169   MANNHEIM                        \\N  49.508962   \n",
       "\n",
       "        LNG  \n",
       "0  8.459429  \n",
       "1  8.467691  "
      ]
     },
     "execution_count": 4,
     "metadata": {},
     "output_type": "execute_result"
    }
   ],
   "source": [
    "gas_station.head(2)"
   ]
  },
  {
   "cell_type": "markdown",
   "metadata": {},
   "source": [
    "<a id=section303></a>"
   ]
  },
  {
   "cell_type": "code",
   "execution_count": 5,
   "metadata": {},
   "outputs": [
    {
     "data": {
      "text/html": [
       "<div>\n",
       "<style scoped>\n",
       "    .dataframe tbody tr th:only-of-type {\n",
       "        vertical-align: middle;\n",
       "    }\n",
       "\n",
       "    .dataframe tbody tr th {\n",
       "        vertical-align: top;\n",
       "    }\n",
       "\n",
       "    .dataframe thead th {\n",
       "        text-align: right;\n",
       "    }\n",
       "</style>\n",
       "<table border=\"1\" class=\"dataframe\">\n",
       "  <thead>\n",
       "    <tr style=\"text-align: right;\">\n",
       "      <th></th>\n",
       "      <th>STID</th>\n",
       "      <th>E5</th>\n",
       "      <th>E10</th>\n",
       "      <th>DIESEL</th>\n",
       "      <th>DATE_CHANGED</th>\n",
       "      <th>CHANGED</th>\n",
       "    </tr>\n",
       "  </thead>\n",
       "  <tbody>\n",
       "    <tr>\n",
       "      <th>0</th>\n",
       "      <td>01bf5a06-4248-43a5-9524-56123fa3ab2f</td>\n",
       "      <td>1589</td>\n",
       "      <td>1549</td>\n",
       "      <td>1389</td>\n",
       "      <td>2014-10-02 05:22:01.000000</td>\n",
       "      <td>21</td>\n",
       "    </tr>\n",
       "    <tr>\n",
       "      <th>1</th>\n",
       "      <td>01bf5a06-4248-43a5-9524-56123fa3ab2f</td>\n",
       "      <td>1569</td>\n",
       "      <td>1529</td>\n",
       "      <td>1369</td>\n",
       "      <td>2014-10-02 05:26:01.000000</td>\n",
       "      <td>21</td>\n",
       "    </tr>\n",
       "  </tbody>\n",
       "</table>\n",
       "</div>"
      ],
      "text/plain": [
       "                                   STID    E5   E10  DIESEL  \\\n",
       "0  01bf5a06-4248-43a5-9524-56123fa3ab2f  1589  1549    1389   \n",
       "1  01bf5a06-4248-43a5-9524-56123fa3ab2f  1569  1529    1369   \n",
       "\n",
       "                 DATE_CHANGED  CHANGED  \n",
       "0  2014-10-02 05:22:01.000000       21  \n",
       "1  2014-10-02 05:26:01.000000       21  "
      ]
     },
     "execution_count": 5,
     "metadata": {},
     "output_type": "execute_result"
    }
   ],
   "source": [
    "fuel_prices.head(2)"
   ]
  },
  {
   "cell_type": "code",
   "execution_count": 6,
   "metadata": {},
   "outputs": [
    {
     "data": {
      "text/plain": [
       "(824, 12)"
      ]
     },
     "execution_count": 6,
     "metadata": {},
     "output_type": "execute_result"
    }
   ],
   "source": [
    "gas_station.shape"
   ]
  },
  {
   "cell_type": "markdown",
   "metadata": {},
   "source": [
    "<a id=section304></a>"
   ]
  },
  {
   "cell_type": "code",
   "execution_count": 7,
   "metadata": {},
   "outputs": [
    {
     "data": {
      "text/plain": [
       "(2189526, 6)"
      ]
     },
     "execution_count": 7,
     "metadata": {},
     "output_type": "execute_result"
    }
   ],
   "source": [
    "fuel_prices.shape"
   ]
  },
  {
   "cell_type": "code",
   "execution_count": 8,
   "metadata": {},
   "outputs": [
    {
     "data": {
      "text/html": [
       "<div>\n",
       "<style scoped>\n",
       "    .dataframe tbody tr th:only-of-type {\n",
       "        vertical-align: middle;\n",
       "    }\n",
       "\n",
       "    .dataframe tbody tr th {\n",
       "        vertical-align: top;\n",
       "    }\n",
       "\n",
       "    .dataframe thead th {\n",
       "        text-align: right;\n",
       "    }\n",
       "</style>\n",
       "<table border=\"1\" class=\"dataframe\">\n",
       "  <thead>\n",
       "    <tr style=\"text-align: right;\">\n",
       "      <th></th>\n",
       "      <th>ID</th>\n",
       "      <th>VERSION</th>\n",
       "      <th>VERSION_TIME</th>\n",
       "      <th>NAME</th>\n",
       "      <th>BRAND</th>\n",
       "      <th>STREET</th>\n",
       "      <th>HOUSE_NUMBER</th>\n",
       "      <th>POST_CODE</th>\n",
       "      <th>PLACE</th>\n",
       "      <th>PUBLIC_HOLIDAY_IDENTIFIER</th>\n",
       "      <th>LAT</th>\n",
       "      <th>LNG</th>\n",
       "    </tr>\n",
       "  </thead>\n",
       "  <tbody>\n",
       "    <tr>\n",
       "      <th>55</th>\n",
       "      <td>884410fe-0e4b-4d93-bd72-55d54c16e755</td>\n",
       "      <td>5</td>\n",
       "      <td>2013-10-29 20:31:50.000000</td>\n",
       "      <td>Raiffeisen Tankstelle Westhofen</td>\n",
       "      <td>Raiffeisen</td>\n",
       "      <td>Raiffeisenstraße</td>\n",
       "      <td>6</td>\n",
       "      <td>67593</td>\n",
       "      <td>Westhofen</td>\n",
       "      <td>\\N</td>\n",
       "      <td>49.700302</td>\n",
       "      <td>8.247808</td>\n",
       "    </tr>\n",
       "    <tr>\n",
       "      <th>505</th>\n",
       "      <td>bbf1fcbc-6092-4514-aa9a-4059d6e1c93c</td>\n",
       "      <td>5</td>\n",
       "      <td>2014-11-03 12:00:00.000000</td>\n",
       "      <td>OIL! Tankstelle Gernsheim</td>\n",
       "      <td>OIL!</td>\n",
       "      <td>Mainzer Straße 22</td>\n",
       "      <td>\\N</td>\n",
       "      <td>64579</td>\n",
       "      <td>Gernsheim</td>\n",
       "      <td>\\N</td>\n",
       "      <td>49.759488</td>\n",
       "      <td>8.483258</td>\n",
       "    </tr>\n",
       "    <tr>\n",
       "      <th>750</th>\n",
       "      <td>e5719fb8-559a-402c-95b6-25a5f74eb24b</td>\n",
       "      <td>1</td>\n",
       "      <td>2013-08-07 02:01:16.000000</td>\n",
       "      <td>Total LEMBERG</td>\n",
       "      <td>Total</td>\n",
       "      <td>PIRMASENSER STR.</td>\n",
       "      <td>26</td>\n",
       "      <td>66969</td>\n",
       "      <td>LEMBERG</td>\n",
       "      <td>\\N</td>\n",
       "      <td>49.173510</td>\n",
       "      <td>7.653735</td>\n",
       "    </tr>\n",
       "    <tr>\n",
       "      <th>297</th>\n",
       "      <td>67718139-db6f-4b44-bc3d-46123a260577</td>\n",
       "      <td>12</td>\n",
       "      <td>2015-04-27 12:00:03.000000</td>\n",
       "      <td>Esso Tankstelle</td>\n",
       "      <td>ESSO</td>\n",
       "      <td>DURLACHER ALLEE 102</td>\n",
       "      <td></td>\n",
       "      <td>76131</td>\n",
       "      <td>KARLSRUHE</td>\n",
       "      <td>\\N</td>\n",
       "      <td>49.005258</td>\n",
       "      <td>8.437433</td>\n",
       "    </tr>\n",
       "    <tr>\n",
       "      <th>201</th>\n",
       "      <td>c990ed92-b1de-43ff-9f04-151c399e61be</td>\n",
       "      <td>12</td>\n",
       "      <td>2015-04-27 12:00:03.000000</td>\n",
       "      <td>Esso Tankstelle</td>\n",
       "      <td>ESSO</td>\n",
       "      <td>BRAUERSTR. 1 B</td>\n",
       "      <td></td>\n",
       "      <td>76133</td>\n",
       "      <td>KARLSRUHE</td>\n",
       "      <td>\\N</td>\n",
       "      <td>49.004948</td>\n",
       "      <td>8.387234</td>\n",
       "    </tr>\n",
       "  </tbody>\n",
       "</table>\n",
       "</div>"
      ],
      "text/plain": [
       "                                       ID  VERSION  \\\n",
       "55   884410fe-0e4b-4d93-bd72-55d54c16e755        5   \n",
       "505  bbf1fcbc-6092-4514-aa9a-4059d6e1c93c        5   \n",
       "750  e5719fb8-559a-402c-95b6-25a5f74eb24b        1   \n",
       "297  67718139-db6f-4b44-bc3d-46123a260577       12   \n",
       "201  c990ed92-b1de-43ff-9f04-151c399e61be       12   \n",
       "\n",
       "                   VERSION_TIME                             NAME       BRAND  \\\n",
       "55   2013-10-29 20:31:50.000000  Raiffeisen Tankstelle Westhofen  Raiffeisen   \n",
       "505  2014-11-03 12:00:00.000000        OIL! Tankstelle Gernsheim        OIL!   \n",
       "750  2013-08-07 02:01:16.000000                    Total LEMBERG       Total   \n",
       "297  2015-04-27 12:00:03.000000                  Esso Tankstelle        ESSO   \n",
       "201  2015-04-27 12:00:03.000000                  Esso Tankstelle        ESSO   \n",
       "\n",
       "                  STREET HOUSE_NUMBER POST_CODE      PLACE  \\\n",
       "55      Raiffeisenstraße            6     67593  Westhofen   \n",
       "505    Mainzer Straße 22           \\N     64579  Gernsheim   \n",
       "750     PIRMASENSER STR.           26     66969    LEMBERG   \n",
       "297  DURLACHER ALLEE 102                  76131  KARLSRUHE   \n",
       "201       BRAUERSTR. 1 B                  76133  KARLSRUHE   \n",
       "\n",
       "    PUBLIC_HOLIDAY_IDENTIFIER        LAT       LNG  \n",
       "55                         \\N  49.700302  8.247808  \n",
       "505                        \\N  49.759488  8.483258  \n",
       "750                        \\N  49.173510  7.653735  \n",
       "297                        \\N  49.005258  8.437433  \n",
       "201                        \\N  49.004948  8.387234  "
      ]
     },
     "execution_count": 8,
     "metadata": {},
     "output_type": "execute_result"
    }
   ],
   "source": [
    "gas_station.sample(5)"
   ]
  },
  {
   "cell_type": "code",
   "execution_count": 9,
   "metadata": {},
   "outputs": [
    {
     "data": {
      "text/html": [
       "<div>\n",
       "<style scoped>\n",
       "    .dataframe tbody tr th:only-of-type {\n",
       "        vertical-align: middle;\n",
       "    }\n",
       "\n",
       "    .dataframe tbody tr th {\n",
       "        vertical-align: top;\n",
       "    }\n",
       "\n",
       "    .dataframe thead th {\n",
       "        text-align: right;\n",
       "    }\n",
       "</style>\n",
       "<table border=\"1\" class=\"dataframe\">\n",
       "  <thead>\n",
       "    <tr style=\"text-align: right;\">\n",
       "      <th></th>\n",
       "      <th>STID</th>\n",
       "      <th>E5</th>\n",
       "      <th>E10</th>\n",
       "      <th>DIESEL</th>\n",
       "      <th>DATE_CHANGED</th>\n",
       "      <th>CHANGED</th>\n",
       "    </tr>\n",
       "  </thead>\n",
       "  <tbody>\n",
       "    <tr>\n",
       "      <th>24289</th>\n",
       "      <td>d133b8ca-83eb-431c-8b35-0ae3b955ebbe</td>\n",
       "      <td>1429</td>\n",
       "      <td>1409</td>\n",
       "      <td>1219</td>\n",
       "      <td>2015-04-02 10:34:01.000000</td>\n",
       "      <td>20</td>\n",
       "    </tr>\n",
       "    <tr>\n",
       "      <th>341645</th>\n",
       "      <td>61b7f87a-3589-48d0-bbf2-0c2dedf6b970</td>\n",
       "      <td>1549</td>\n",
       "      <td>1509</td>\n",
       "      <td>1339</td>\n",
       "      <td>2014-07-28 09:30:02.000000</td>\n",
       "      <td>21</td>\n",
       "    </tr>\n",
       "    <tr>\n",
       "      <th>534517</th>\n",
       "      <td>8a0bc647-d690-4e43-9e80-479e422af7df</td>\n",
       "      <td>1519</td>\n",
       "      <td>1479</td>\n",
       "      <td>1309</td>\n",
       "      <td>2014-09-06 16:14:01.000000</td>\n",
       "      <td>21</td>\n",
       "    </tr>\n",
       "    <tr>\n",
       "      <th>1502628</th>\n",
       "      <td>f0a63434-d85b-4a06-a583-11724f884450</td>\n",
       "      <td>1459</td>\n",
       "      <td>1439</td>\n",
       "      <td>1249</td>\n",
       "      <td>2015-04-01 23:06:01.000000</td>\n",
       "      <td>21</td>\n",
       "    </tr>\n",
       "    <tr>\n",
       "      <th>1559470</th>\n",
       "      <td>e935427e-bd37-4daf-979c-b4fe2d112981</td>\n",
       "      <td>1369</td>\n",
       "      <td>1329</td>\n",
       "      <td>1199</td>\n",
       "      <td>2014-12-09 08:13:00.000000</td>\n",
       "      <td>21</td>\n",
       "    </tr>\n",
       "  </tbody>\n",
       "</table>\n",
       "</div>"
      ],
      "text/plain": [
       "                                         STID    E5   E10  DIESEL  \\\n",
       "24289    d133b8ca-83eb-431c-8b35-0ae3b955ebbe  1429  1409    1219   \n",
       "341645   61b7f87a-3589-48d0-bbf2-0c2dedf6b970  1549  1509    1339   \n",
       "534517   8a0bc647-d690-4e43-9e80-479e422af7df  1519  1479    1309   \n",
       "1502628  f0a63434-d85b-4a06-a583-11724f884450  1459  1439    1249   \n",
       "1559470  e935427e-bd37-4daf-979c-b4fe2d112981  1369  1329    1199   \n",
       "\n",
       "                       DATE_CHANGED  CHANGED  \n",
       "24289    2015-04-02 10:34:01.000000       20  \n",
       "341645   2014-07-28 09:30:02.000000       21  \n",
       "534517   2014-09-06 16:14:01.000000       21  \n",
       "1502628  2015-04-01 23:06:01.000000       21  \n",
       "1559470  2014-12-09 08:13:00.000000       21  "
      ]
     },
     "execution_count": 9,
     "metadata": {},
     "output_type": "execute_result"
    }
   ],
   "source": [
    "fuel_prices.sample(5)"
   ]
  },
  {
   "cell_type": "markdown",
   "metadata": {},
   "source": [
    "<a id=section305></a>"
   ]
  },
  {
   "cell_type": "code",
   "execution_count": 10,
   "metadata": {},
   "outputs": [],
   "source": [
    "gas_station_pre_profile = pandas_profiling.ProfileReport(gas_station)\n",
    "gas_station_pre_profile.to_file(outputfile='gas_station_before_profiling.html')\n",
    "\n",
    "fuel_prices_pre_profile = pandas_profiling.ProfileReport(fuel_prices)\n",
    "fuel_prices_pre_profile.to_file(outputfile='fuel_prices_before_profiling.html')"
   ]
  },
  {
   "cell_type": "markdown",
   "metadata": {},
   "source": [
    "<a id=section306></a>\n",
    "### 3.6 Initial Observations\n",
    "\n",
    "#### gas_station _DataFrame_\n",
    "- __ID__ column has __412__ unique values. Also __each ID__ has a _frequency_ of __2__, meaning there are _duplicates_ that need to be removed based on this column only.</br>\n",
    "- __BRAND__ column is categorical with a distinct count of __56__. Hence total __56__ brands</br>\n",
    "- __NAME__ column is categorical with a distinct count of __295__. Hence total __295__ units.</br>\n",
    "\n",
    "#### fuel_prices _DataFrame_\n",
    "- __E10__ column is highly correlated with __E5__. \n",
    "- __STID__ has a high cardinality with __412__ distinct values. \n",
    "- Entire dataset has __1094763__ duplicates. We need to clean this primarily"
   ]
  },
  {
   "cell_type": "markdown",
   "metadata": {},
   "source": [
    "The following remarks were obtained from https://creativecommons.tankerkoenig.de/ regarding data in fuel_prices data\n",
    "\n",
    "Column\tmeaning\tRemarks\n",
    "\n",
    "stidis reference to the gas station ID\t\n",
    "e5\tPrice for a liter of Super E5\tIn tenths of a cent\n",
    "e10\tPrice for a liter of Super E10\tIn tenths of a cent\n",
    "diesel\tPrice for a liter of diesel\tIn tenths of a cent\n",
    "date\tTime of this change\tsee below\n",
    "changed\tBitmask for the change\tsee below\n",
    "Hints\n",
    "For reasons of space, only price changes are stored in the history table. The price at a certain point in time must therefore be calculated from the last change.\n",
    "If an invalid price was transferred, -1 stands in the respective price column.\n",
    "The changed column contains (also for reasons of space) for each type of fuel (diesel, E5, E10) flags that have the following meaning and are added together:\n",
    "Bitmask for the change\n",
    "\n",
    "       diesel\tE5 \tE10\n",
    "new\t     3  \t12\t48\n",
    "removed\t 2\t    8th\t32\n",
    "changed\t 1\t    4\t16\n",
    "\n",
    "For example, if diesel and E10 prices have been changed, 17 is changed to 17 (1 + 16).\n",
    "\n",
    "A price is new if \n",
    "a) the type of fuel has not previously been run by the gas station,\n",
    "b) the gas station is new, or\n",
    "c) after the MTS-K has not supplied any prices for maintenance for some time."
   ]
  },
  {
   "cell_type": "markdown",
   "metadata": {},
   "source": [
    "#### _Cleaning fuel__prices  DataFrame_"
   ]
  },
  {
   "cell_type": "markdown",
   "metadata": {},
   "source": [
    "#### _Checking for  duplicates from_ fuel_prices _DataFrame_"
   ]
  },
  {
   "cell_type": "code",
   "execution_count": 11,
   "metadata": {},
   "outputs": [
    {
     "name": "stdout",
     "output_type": "stream",
     "text": [
      "Total no. of entries in dataset :\n",
      "STID            2189526\n",
      "E5              2189526\n",
      "E10             2189526\n",
      "DIESEL          2189526\n",
      "DATE_CHANGED    2189526\n",
      "CHANGED         2189526\n",
      "dtype: int64\n"
     ]
    }
   ],
   "source": [
    "print('Total no. of entries in dataset :\\n{0}'.format(fuel_prices.count()))"
   ]
  },
  {
   "cell_type": "code",
   "execution_count": 12,
   "metadata": {},
   "outputs": [],
   "source": [
    "#pd.pivot_table(fuel_prices,index=[\"STID\",\"DATE_CHANGED\"],aggfunc=[len]).head()"
   ]
  },
  {
   "cell_type": "markdown",
   "metadata": {},
   "source": [
    "From the above result,we can confirm there are duplicates in the data.Removing duplicates using drop_duplicates()"
   ]
  },
  {
   "cell_type": "markdown",
   "metadata": {},
   "source": [
    "#### _Removing Duplicates from_ fuel_prices _DataFrame_"
   ]
  },
  {
   "cell_type": "code",
   "execution_count": 13,
   "metadata": {},
   "outputs": [
    {
     "name": "stdout",
     "output_type": "stream",
     "text": [
      "The shape of the data set is: (1094763, 6)\n",
      "Total no. of entries in dataset after removing duplicates are:\n",
      "STID            1094763\n",
      "E5              1094763\n",
      "E10             1094763\n",
      "DIESEL          1094763\n",
      "DATE_CHANGED    1094763\n",
      "CHANGED         1094763\n",
      "dtype: int64\n"
     ]
    }
   ],
   "source": [
    "fuel_prices = fuel_prices.drop_duplicates()\n",
    "print('The shape of the data set is: {0}'.format(fuel_prices.shape))\n",
    "print('Total no. of entries in dataset after removing duplicates are:\\n{0}'.format(fuel_prices.count()))"
   ]
  },
  {
   "cell_type": "markdown",
   "metadata": {},
   "source": [
    "After removing the duplicates the no of entries reduced from  2189526 to 1094763\n"
   ]
  },
  {
   "cell_type": "markdown",
   "metadata": {},
   "source": [
    "#### _Removing rows with 0 values in price  from_ fuel_prices _DataFrame_"
   ]
  },
  {
   "cell_type": "code",
   "execution_count": 14,
   "metadata": {},
   "outputs": [
    {
     "name": "stdout",
     "output_type": "stream",
     "text": [
      "The shape of the data set is: (1094763, 6)\n"
     ]
    }
   ],
   "source": [
    "print('The shape of the data set is: {0}'.format(fuel_prices.shape))"
   ]
  },
  {
   "cell_type": "code",
   "execution_count": 15,
   "metadata": {},
   "outputs": [
    {
     "name": "stdout",
     "output_type": "stream",
     "text": [
      "(187, 6)\n",
      "(17272, 6)\n",
      "(19166, 6)\n"
     ]
    }
   ],
   "source": [
    "## Checking for -rows with invalid data(-1) or impossible data price equal to zero(0) in the dataframe fuel_prices\n",
    "\n",
    "DIESEL_invalid  = fuel_prices[(fuel_prices['DIESEL']== 0)|(fuel_prices['DIESEL']== -1)]\n",
    "print(DIESEL_invalid.shape)\n",
    "E5_invalid = fuel_prices[(fuel_prices['E5']== 0)|(fuel_prices['E5']== -1)]\n",
    "print(E5_invalid.shape)\n",
    "E10_invalid = fuel_prices[(fuel_prices['E10']== 0)|(fuel_prices['E10']== -1)]\n",
    "print(E10_invalid.shape)"
   ]
  },
  {
   "cell_type": "markdown",
   "metadata": {},
   "source": [
    "## Dropping all rows with invalid data(-1) or impossible data price equal to zero(0)\n",
    "\n",
    "fuel_prices.drop(fuel_prices[(fuel_prices.E10==0)|(fuel_prices.E10==-1)|(fuel_prices.E5==0)|(fuel_prices.E5==-1)|\\\n",
    "               (fuel_prices.DIESEL==0)|(fuel_prices.DIESEL==-1)].index, inplace=True)\n",
    "print('The shape of the data set is: {0}'.format(fuel_prices.shape))\n",
    "print('Total no. of entries in dataset after removing rows with 0 as price value are:\\n{0}'.format(fuel_prices.count()))"
   ]
  },
  {
   "cell_type": "markdown",
   "metadata": {},
   "source": [
    "## Dropping rows with high price points\n",
    "\n",
    "fuel_prices.drop(fuel_prices[(fuel_prices.E10>800)|(fuel_prices.E10 <2000)|(fuel_prices.E5>800)|(fuel_prices.E5<2000)|\\\n",
    "               (fuel_prices.DIESEL>800)|(fuel_prices.DIESEL<2000)].index, inplace=True)\n",
    "\n"
   ]
  },
  {
   "cell_type": "markdown",
   "metadata": {},
   "source": []
  },
  {
   "cell_type": "markdown",
   "metadata": {},
   "source": [
    "The following remarks were obtained from https://creativecommons.tankerkoenig.de/ regarding data in gas_station data\n",
    "\n",
    "id\tis unique, steady ID of the gas station\t\n",
    "version\tVersion number are not very meaningful\n",
    "version_time\t is information on the last change of the version number\t\n",
    "Name of gas station\tCan be empty, there are no clear guidelines what to stand here\n",
    "Street is\tName of the street, often the house number is given here\n",
    "House number\tCan be empty too\n",
    "Postcode\tIs reliable\n",
    "place is location  indicated by name of the village, occasionally with district\n",
    "public_holiday_identifier is abbreviation for state\tand is usually not specified\n",
    "lat\tis latitude of the site\t\n",
    "lng\tis geographical length of the site"
   ]
  },
  {
   "cell_type": "markdown",
   "metadata": {},
   "source": [
    "#### _Cleaning data of dataframe -gas__station"
   ]
  },
  {
   "cell_type": "markdown",
   "metadata": {},
   "source": [
    "#### _Checking for  duplicates from_ gas_station _DataFrame_"
   ]
  },
  {
   "cell_type": "code",
   "execution_count": 16,
   "metadata": {},
   "outputs": [
    {
     "data": {
      "text/html": [
       "<div>\n",
       "<style scoped>\n",
       "    .dataframe tbody tr th:only-of-type {\n",
       "        vertical-align: middle;\n",
       "    }\n",
       "\n",
       "    .dataframe tbody tr th {\n",
       "        vertical-align: top;\n",
       "    }\n",
       "\n",
       "    .dataframe thead th {\n",
       "        text-align: right;\n",
       "    }\n",
       "</style>\n",
       "<table border=\"1\" class=\"dataframe\">\n",
       "  <thead>\n",
       "    <tr style=\"text-align: right;\">\n",
       "      <th></th>\n",
       "      <th>ID</th>\n",
       "      <th>VERSION</th>\n",
       "      <th>VERSION_TIME</th>\n",
       "      <th>NAME</th>\n",
       "      <th>BRAND</th>\n",
       "      <th>STREET</th>\n",
       "      <th>HOUSE_NUMBER</th>\n",
       "      <th>POST_CODE</th>\n",
       "      <th>PLACE</th>\n",
       "      <th>PUBLIC_HOLIDAY_IDENTIFIER</th>\n",
       "      <th>LAT</th>\n",
       "      <th>LNG</th>\n",
       "    </tr>\n",
       "  </thead>\n",
       "  <tbody>\n",
       "    <tr>\n",
       "      <th>822</th>\n",
       "      <td>9b81b226-01ca-4065-b68e-ad616adcd293</td>\n",
       "      <td>17</td>\n",
       "      <td>2015-09-20 12:32:34.000000</td>\n",
       "      <td>AVIA Phillipsburg-Rheinsheim</td>\n",
       "      <td>AVIA</td>\n",
       "      <td>Oskar-Frey-Str.</td>\n",
       "      <td>30</td>\n",
       "      <td>76661</td>\n",
       "      <td>Phillipsburg</td>\n",
       "      <td>\\N</td>\n",
       "      <td>49.232700</td>\n",
       "      <td>8.41683</td>\n",
       "    </tr>\n",
       "    <tr>\n",
       "      <th>823</th>\n",
       "      <td>00060982-0001-4444-8888-acdcffffffff</td>\n",
       "      <td>5</td>\n",
       "      <td>2014-11-03 00:00:06.000000</td>\n",
       "      <td>Tankstelle Heinz</td>\n",
       "      <td>Tankstelle Heinz</td>\n",
       "      <td>Fettweißstrasse</td>\n",
       "      <td>8</td>\n",
       "      <td>76189</td>\n",
       "      <td>Karlsruhe</td>\n",
       "      <td>\\N</td>\n",
       "      <td>49.008991</td>\n",
       "      <td>8.32744</td>\n",
       "    </tr>\n",
       "  </tbody>\n",
       "</table>\n",
       "</div>"
      ],
      "text/plain": [
       "                                       ID  VERSION  \\\n",
       "822  9b81b226-01ca-4065-b68e-ad616adcd293       17   \n",
       "823  00060982-0001-4444-8888-acdcffffffff        5   \n",
       "\n",
       "                   VERSION_TIME                          NAME  \\\n",
       "822  2015-09-20 12:32:34.000000  AVIA Phillipsburg-Rheinsheim   \n",
       "823  2014-11-03 00:00:06.000000              Tankstelle Heinz   \n",
       "\n",
       "                BRAND            STREET HOUSE_NUMBER POST_CODE         PLACE  \\\n",
       "822              AVIA  Oskar-Frey-Str.            30     76661  Phillipsburg   \n",
       "823  Tankstelle Heinz   Fettweißstrasse            8     76189     Karlsruhe   \n",
       "\n",
       "    PUBLIC_HOLIDAY_IDENTIFIER        LAT      LNG  \n",
       "822                        \\N  49.232700  8.41683  \n",
       "823                        \\N  49.008991  8.32744  "
      ]
     },
     "execution_count": 16,
     "metadata": {},
     "output_type": "execute_result"
    }
   ],
   "source": [
    "gas_station.tail(2)"
   ]
  },
  {
   "cell_type": "markdown",
   "metadata": {},
   "source": [
    "The tail indicates that there are 709 elements in the column of ID"
   ]
  },
  {
   "cell_type": "code",
   "execution_count": 17,
   "metadata": {},
   "outputs": [
    {
     "data": {
      "text/plain": [
       "412"
      ]
     },
     "execution_count": 17,
     "metadata": {},
     "output_type": "execute_result"
    }
   ],
   "source": [
    "# Checking no of unique elements in ID to access if any duplicates are present\n",
    "gas_station['ID'].nunique(())"
   ]
  },
  {
   "cell_type": "markdown",
   "metadata": {},
   "source": [
    "From comparing the no of elements in column ID and unique values it is evident there are duplicate values"
   ]
  },
  {
   "cell_type": "markdown",
   "metadata": {},
   "source": [
    "#### _Removing Duplicates from_ gas_station _DataFrame_"
   ]
  },
  {
   "cell_type": "code",
   "execution_count": 18,
   "metadata": {},
   "outputs": [
    {
     "name": "stdout",
     "output_type": "stream",
     "text": [
      "The shape of the data set is: (412, 12)\n",
      "Total no. of entries of station id in dataset after removing duplicates are: 412\n"
     ]
    }
   ],
   "source": [
    "gas_station = gas_station.drop_duplicates()\n",
    "print('The shape of the data set is: {0}'.format(gas_station.shape))\n",
    "print('Total no. of entries of station id in dataset after removing duplicates are: {0}'.format(gas_station['ID'].nunique()))"
   ]
  },
  {
   "cell_type": "markdown",
   "metadata": {},
   "source": [
    "From Source of Data (https://creativecommons.tankerkoenig.de/).We gathered  following information \n"
   ]
  },
  {
   "cell_type": "code",
   "execution_count": 19,
   "metadata": {},
   "outputs": [],
   "source": [
    "# from the remarks as mentioned above the columns which are not reliable or serve any purpose are dropped \n",
    "# Removing 'VERSION' ,'VERSION_TIME' ,'PUBLIC_HOLIDAY_IDENTIFIER'& 'HOUSE_NUMBER'columns\n",
    "gas_station= gas_station.drop(['VERSION', 'VERSION_TIME','PUBLIC_HOLIDAY_IDENTIFIER', 'HOUSE_NUMBER'], axis=1)"
   ]
  },
  {
   "cell_type": "code",
   "execution_count": 20,
   "metadata": {},
   "outputs": [
    {
     "data": {
      "text/html": [
       "<div>\n",
       "<style scoped>\n",
       "    .dataframe tbody tr th:only-of-type {\n",
       "        vertical-align: middle;\n",
       "    }\n",
       "\n",
       "    .dataframe tbody tr th {\n",
       "        vertical-align: top;\n",
       "    }\n",
       "\n",
       "    .dataframe thead th {\n",
       "        text-align: right;\n",
       "    }\n",
       "</style>\n",
       "<table border=\"1\" class=\"dataframe\">\n",
       "  <thead>\n",
       "    <tr style=\"text-align: right;\">\n",
       "      <th></th>\n",
       "      <th>ID</th>\n",
       "      <th>NAME</th>\n",
       "      <th>BRAND</th>\n",
       "      <th>STREET</th>\n",
       "      <th>POST_CODE</th>\n",
       "      <th>PLACE</th>\n",
       "      <th>LAT</th>\n",
       "      <th>LNG</th>\n",
       "    </tr>\n",
       "  </thead>\n",
       "  <tbody>\n",
       "    <tr>\n",
       "      <th>0</th>\n",
       "      <td>d37bee76-91b6-485a-b974-24f1b0d391fa</td>\n",
       "      <td>Aral Tankstelle</td>\n",
       "      <td>ARAL</td>\n",
       "      <td>An der Tagweide</td>\n",
       "      <td>76139</td>\n",
       "      <td>Karlsruhe</td>\n",
       "      <td>49.020280</td>\n",
       "      <td>8.459429</td>\n",
       "    </tr>\n",
       "    <tr>\n",
       "      <th>1</th>\n",
       "      <td>51d4b652-a095-1aa0-e100-80009459e03a</td>\n",
       "      <td>JET MANNHEIM UNTERMUEHLAUSTRASSE 83</td>\n",
       "      <td>JET</td>\n",
       "      <td>UNTERMUEHLAUSTRASSE 83</td>\n",
       "      <td>68169</td>\n",
       "      <td>MANNHEIM</td>\n",
       "      <td>49.508962</td>\n",
       "      <td>8.467691</td>\n",
       "    </tr>\n",
       "    <tr>\n",
       "      <th>2</th>\n",
       "      <td>c7caf231-0e47-40db-92de-9349a2eb2bef</td>\n",
       "      <td>Aral Tankstelle</td>\n",
       "      <td>ARAL</td>\n",
       "      <td>Trippstadter Straße</td>\n",
       "      <td>67663</td>\n",
       "      <td>Kaiserslautern</td>\n",
       "      <td>49.433754</td>\n",
       "      <td>7.757465</td>\n",
       "    </tr>\n",
       "    <tr>\n",
       "      <th>3</th>\n",
       "      <td>51d4b53b-a095-1aa0-e100-80009459e03a</td>\n",
       "      <td>JET KAISERSLAUTERN PARISER STR. 167</td>\n",
       "      <td>JET</td>\n",
       "      <td>PARISER STR. 167</td>\n",
       "      <td>67655</td>\n",
       "      <td>KAISERSLAUTERN</td>\n",
       "      <td>49.442200</td>\n",
       "      <td>7.748360</td>\n",
       "    </tr>\n",
       "    <tr>\n",
       "      <th>4</th>\n",
       "      <td>51d4b70f-a095-1aa0-e100-80009459e03a</td>\n",
       "      <td>JET GERMERSHEIM MUENCHENER STRASSE 12</td>\n",
       "      <td>JET</td>\n",
       "      <td>MUENCHENER STRASSE 12</td>\n",
       "      <td>76726</td>\n",
       "      <td>GERMERSHEIM</td>\n",
       "      <td>49.226800</td>\n",
       "      <td>8.374400</td>\n",
       "    </tr>\n",
       "  </tbody>\n",
       "</table>\n",
       "</div>"
      ],
      "text/plain": [
       "                                     ID  \\\n",
       "0  d37bee76-91b6-485a-b974-24f1b0d391fa   \n",
       "1  51d4b652-a095-1aa0-e100-80009459e03a   \n",
       "2  c7caf231-0e47-40db-92de-9349a2eb2bef   \n",
       "3  51d4b53b-a095-1aa0-e100-80009459e03a   \n",
       "4  51d4b70f-a095-1aa0-e100-80009459e03a   \n",
       "\n",
       "                                    NAME BRAND                  STREET  \\\n",
       "0                        Aral Tankstelle  ARAL         An der Tagweide   \n",
       "1    JET MANNHEIM UNTERMUEHLAUSTRASSE 83   JET  UNTERMUEHLAUSTRASSE 83   \n",
       "2                        Aral Tankstelle  ARAL     Trippstadter Straße   \n",
       "3    JET KAISERSLAUTERN PARISER STR. 167   JET        PARISER STR. 167   \n",
       "4  JET GERMERSHEIM MUENCHENER STRASSE 12   JET   MUENCHENER STRASSE 12   \n",
       "\n",
       "  POST_CODE           PLACE        LAT       LNG  \n",
       "0     76139       Karlsruhe  49.020280  8.459429  \n",
       "1     68169        MANNHEIM  49.508962  8.467691  \n",
       "2     67663  Kaiserslautern  49.433754  7.757465  \n",
       "3     67655  KAISERSLAUTERN  49.442200  7.748360  \n",
       "4     76726     GERMERSHEIM  49.226800  8.374400  "
      ]
     },
     "execution_count": 20,
     "metadata": {},
     "output_type": "execute_result"
    }
   ],
   "source": [
    "gas_station.head()"
   ]
  },
  {
   "cell_type": "markdown",
   "metadata": {},
   "source": [
    "#### _Checking_ NaN _values and removing them from_ gas_station _DataFrame_"
   ]
  },
  {
   "cell_type": "code",
   "execution_count": 21,
   "metadata": {},
   "outputs": [
    {
     "data": {
      "text/plain": [
       "ID            0\n",
       "NAME          0\n",
       "BRAND        11\n",
       "STREET        2\n",
       "POST_CODE     2\n",
       "PLACE         2\n",
       "LAT           0\n",
       "LNG           0\n",
       "dtype: int64"
      ]
     },
     "execution_count": 21,
     "metadata": {},
     "output_type": "execute_result"
    }
   ],
   "source": [
    "gas_station.isna().sum()"
   ]
  },
  {
   "cell_type": "code",
   "execution_count": 22,
   "metadata": {},
   "outputs": [
    {
     "name": "stdout",
     "output_type": "stream",
     "text": [
      "The shape is: (399, 8)\n"
     ]
    },
    {
     "data": {
      "text/plain": [
       "ID           0\n",
       "NAME         0\n",
       "BRAND        0\n",
       "STREET       0\n",
       "POST_CODE    0\n",
       "PLACE        0\n",
       "LAT          0\n",
       "LNG          0\n",
       "dtype: int64"
      ]
     },
     "execution_count": 22,
     "metadata": {},
     "output_type": "execute_result"
    }
   ],
   "source": [
    "gas_station = gas_station.dropna()\n",
    "print('The shape is: {0}'.format(gas_station.shape))\n",
    "gas_station.isna().sum()"
   ]
  },
  {
   "cell_type": "markdown",
   "metadata": {},
   "source": [
    "#### _Checking_ NaN _values and removing them from_ fuel_prices _DataFrame_"
   ]
  },
  {
   "cell_type": "code",
   "execution_count": 23,
   "metadata": {},
   "outputs": [
    {
     "data": {
      "text/plain": [
       "STID            0\n",
       "E5              0\n",
       "E10             0\n",
       "DIESEL          0\n",
       "DATE_CHANGED    0\n",
       "CHANGED         0\n",
       "dtype: int64"
      ]
     },
     "execution_count": 23,
     "metadata": {},
     "output_type": "execute_result"
    }
   ],
   "source": [
    "fuel_prices.isna().sum()"
   ]
  },
  {
   "cell_type": "markdown",
   "metadata": {},
   "source": [
    "#### _Fixing_ BRAND _column of_ gas_station _DataFrame_"
   ]
  },
  {
   "cell_type": "code",
   "execution_count": 24,
   "metadata": {},
   "outputs": [
    {
     "name": "stdout",
     "output_type": "stream",
     "text": [
      "Total number of unique brands before cleaning is: 53\n"
     ]
    }
   ],
   "source": [
    "print('Total number of unique brands before cleaning is: {0}'.format(gas_station.BRAND.nunique()))"
   ]
  },
  {
   "cell_type": "code",
   "execution_count": 25,
   "metadata": {},
   "outputs": [
    {
     "data": {
      "text/plain": [
       "BRAND\n",
       "ARAL                                    75\n",
       "AVIA                                    33\n",
       "Agip                                    17\n",
       "BFT                                     19\n",
       "Bft                                      1\n",
       "CLASSIC                                  1\n",
       "E Center                                 1\n",
       "ED                                       4\n",
       "ELAN                                     1\n",
       "ESSO                                    36\n",
       "Eberhardt Jöhlingen                      1\n",
       "Freie                                    4\n",
       "Freie Tankstelle                         3\n",
       "Fritz Walter GmbH                        1\n",
       "Frühmesser GmbH                          6\n",
       "HEM                                      5\n",
       "JET                                     25\n",
       "Markant                                  1\n",
       "Markenfreie TS                           1\n",
       "Mr. Wash Autoservice AG                  1\n",
       "OIL!                                     6\n",
       "OMV                                     10\n",
       "Preis                                    2\n",
       "Raiffeisen                               1\n",
       "Raiffeisen Tankstelle                    1\n",
       "SB                                       4\n",
       "SB Markt                                 1\n",
       "SB-Markttankstelle                       1\n",
       "Schiffer & Nicklaus GmbH                 2\n",
       "Schuster & Sohn KG                       4\n",
       "Sefrin Heizöl & Kraftstoffe              1\n",
       "Shell                                   56\n",
       "Supermarkt Tankstelle                    1\n",
       "Supermarkt-Tankstelle                    4\n",
       "Supermarkt-Tankstelle am real- Markt    10\n",
       "T                                        4\n",
       "TAMOIL                                   1\n",
       "TOP                                      1\n",
       "TOTAL                                    1\n",
       "TS ARNT                                  1\n",
       "Tankcenter                               2\n",
       "Tankhof Iffezheim                        1\n",
       "Tankstelle Heinz                         1\n",
       "Total                                   29\n",
       "Winkler                                  2\n",
       "ZG Raiffeisen Energie                    2\n",
       "\\N                                       3\n",
       "bft                                      5\n",
       "frei                                     1\n",
       "freie Tankstelle                         2\n",
       "mtb                                      1\n",
       "nicht mehr aktiv                         1\n",
       "rnt                                      1\n",
       "dtype: int64"
      ]
     },
     "execution_count": 25,
     "metadata": {},
     "output_type": "execute_result"
    }
   ],
   "source": [
    "gas_station.groupby('BRAND').size()"
   ]
  },
  {
   "cell_type": "code",
   "execution_count": 26,
   "metadata": {},
   "outputs": [
    {
     "data": {
      "text/html": [
       "<div>\n",
       "<style scoped>\n",
       "    .dataframe tbody tr th:only-of-type {\n",
       "        vertical-align: middle;\n",
       "    }\n",
       "\n",
       "    .dataframe tbody tr th {\n",
       "        vertical-align: top;\n",
       "    }\n",
       "\n",
       "    .dataframe thead th {\n",
       "        text-align: right;\n",
       "    }\n",
       "</style>\n",
       "<table border=\"1\" class=\"dataframe\">\n",
       "  <thead>\n",
       "    <tr style=\"text-align: right;\">\n",
       "      <th></th>\n",
       "      <th>ID</th>\n",
       "      <th>NAME</th>\n",
       "      <th>BRAND</th>\n",
       "      <th>STREET</th>\n",
       "      <th>POST_CODE</th>\n",
       "      <th>PLACE</th>\n",
       "      <th>LAT</th>\n",
       "      <th>LNG</th>\n",
       "    </tr>\n",
       "  </thead>\n",
       "  <tbody>\n",
       "    <tr>\n",
       "      <th>0</th>\n",
       "      <td>d37bee76-91b6-485a-b974-24f1b0d391fa</td>\n",
       "      <td>Aral Tankstelle</td>\n",
       "      <td>ARAL</td>\n",
       "      <td>An der Tagweide</td>\n",
       "      <td>76139</td>\n",
       "      <td>Karlsruhe</td>\n",
       "      <td>49.020280</td>\n",
       "      <td>8.459429</td>\n",
       "    </tr>\n",
       "    <tr>\n",
       "      <th>1</th>\n",
       "      <td>51d4b652-a095-1aa0-e100-80009459e03a</td>\n",
       "      <td>JET MANNHEIM UNTERMUEHLAUSTRASSE 83</td>\n",
       "      <td>JET</td>\n",
       "      <td>UNTERMUEHLAUSTRASSE 83</td>\n",
       "      <td>68169</td>\n",
       "      <td>MANNHEIM</td>\n",
       "      <td>49.508962</td>\n",
       "      <td>8.467691</td>\n",
       "    </tr>\n",
       "    <tr>\n",
       "      <th>2</th>\n",
       "      <td>c7caf231-0e47-40db-92de-9349a2eb2bef</td>\n",
       "      <td>Aral Tankstelle</td>\n",
       "      <td>ARAL</td>\n",
       "      <td>Trippstadter Straße</td>\n",
       "      <td>67663</td>\n",
       "      <td>Kaiserslautern</td>\n",
       "      <td>49.433754</td>\n",
       "      <td>7.757465</td>\n",
       "    </tr>\n",
       "    <tr>\n",
       "      <th>3</th>\n",
       "      <td>51d4b53b-a095-1aa0-e100-80009459e03a</td>\n",
       "      <td>JET KAISERSLAUTERN PARISER STR. 167</td>\n",
       "      <td>JET</td>\n",
       "      <td>PARISER STR. 167</td>\n",
       "      <td>67655</td>\n",
       "      <td>KAISERSLAUTERN</td>\n",
       "      <td>49.442200</td>\n",
       "      <td>7.748360</td>\n",
       "    </tr>\n",
       "    <tr>\n",
       "      <th>4</th>\n",
       "      <td>51d4b70f-a095-1aa0-e100-80009459e03a</td>\n",
       "      <td>JET GERMERSHEIM MUENCHENER STRASSE 12</td>\n",
       "      <td>JET</td>\n",
       "      <td>MUENCHENER STRASSE 12</td>\n",
       "      <td>76726</td>\n",
       "      <td>GERMERSHEIM</td>\n",
       "      <td>49.226800</td>\n",
       "      <td>8.374400</td>\n",
       "    </tr>\n",
       "  </tbody>\n",
       "</table>\n",
       "</div>"
      ],
      "text/plain": [
       "                                     ID  \\\n",
       "0  d37bee76-91b6-485a-b974-24f1b0d391fa   \n",
       "1  51d4b652-a095-1aa0-e100-80009459e03a   \n",
       "2  c7caf231-0e47-40db-92de-9349a2eb2bef   \n",
       "3  51d4b53b-a095-1aa0-e100-80009459e03a   \n",
       "4  51d4b70f-a095-1aa0-e100-80009459e03a   \n",
       "\n",
       "                                    NAME BRAND                  STREET  \\\n",
       "0                        Aral Tankstelle  ARAL         An der Tagweide   \n",
       "1    JET MANNHEIM UNTERMUEHLAUSTRASSE 83   JET  UNTERMUEHLAUSTRASSE 83   \n",
       "2                        Aral Tankstelle  ARAL     Trippstadter Straße   \n",
       "3    JET KAISERSLAUTERN PARISER STR. 167   JET        PARISER STR. 167   \n",
       "4  JET GERMERSHEIM MUENCHENER STRASSE 12   JET   MUENCHENER STRASSE 12   \n",
       "\n",
       "  POST_CODE           PLACE        LAT       LNG  \n",
       "0     76139       Karlsruhe  49.020280  8.459429  \n",
       "1     68169        MANNHEIM  49.508962  8.467691  \n",
       "2     67663  Kaiserslautern  49.433754  7.757465  \n",
       "3     67655  KAISERSLAUTERN  49.442200  7.748360  \n",
       "4     76726     GERMERSHEIM  49.226800  8.374400  "
      ]
     },
     "execution_count": 26,
     "metadata": {},
     "output_type": "execute_result"
    }
   ],
   "source": [
    "## creating a duplicate column to perform corrections\n",
    "gas_station['BRAND'] = gas_station['BRAND'].apply(lambda x:x.upper())\n",
    "gas_station.head()"
   ]
  },
  {
   "cell_type": "code",
   "execution_count": 27,
   "metadata": {},
   "outputs": [
    {
     "data": {
      "text/plain": [
       "pandas.core.series.Series"
      ]
     },
     "execution_count": 27,
     "metadata": {},
     "output_type": "execute_result"
    }
   ],
   "source": [
    "type (gas_station['ID'])\n"
   ]
  },
  {
   "cell_type": "code",
   "execution_count": 28,
   "metadata": {},
   "outputs": [],
   "source": [
    "gas_station['BRAND'].replace(['SB-MARKTTANKSTELLE','SB MARKT','ZG RAIFFEISEN ENERGIE','RAIFFEISEN TANKSTELLE','SUPERMARKT-TANKSTELLE','FREI','FREIE TANKSTELLE' ],\\\n",
    "                             ['SB','SB','RAIFFEISEN', 'RAIFFEISEN','SUPERMARKT TANKSTELLE','FREIE','FREIE'],inplace= True)\n"
   ]
  },
  {
   "cell_type": "code",
   "execution_count": 29,
   "metadata": {},
   "outputs": [
    {
     "data": {
      "text/plain": [
       "BRAND\n",
       "AGIP                                    17\n",
       "ARAL                                    75\n",
       "AVIA                                    33\n",
       "BFT                                     25\n",
       "CLASSIC                                  1\n",
       "E CENTER                                 1\n",
       "EBERHARDT JÖHLINGEN                      1\n",
       "ED                                       4\n",
       "ELAN                                     1\n",
       "ESSO                                    36\n",
       "FREIE                                   10\n",
       "FRITZ WALTER GMBH                        1\n",
       "FRÜHMESSER GMBH                          6\n",
       "HEM                                      5\n",
       "JET                                     25\n",
       "MARKANT                                  1\n",
       "MARKENFREIE TS                           1\n",
       "MR. WASH AUTOSERVICE AG                  1\n",
       "MTB                                      1\n",
       "NICHT MEHR AKTIV                         1\n",
       "OIL!                                     6\n",
       "OMV                                     10\n",
       "PREIS                                    2\n",
       "RAIFFEISEN                               4\n",
       "RNT                                      1\n",
       "SB                                       6\n",
       "SCHIFFER & NICKLAUS GMBH                 2\n",
       "SCHUSTER & SOHN KG                       4\n",
       "SEFRIN HEIZÖL & KRAFTSTOFFE              1\n",
       "SHELL                                   56\n",
       "SUPERMARKT TANKSTELLE                    5\n",
       "SUPERMARKT-TANKSTELLE AM REAL- MARKT    10\n",
       "T                                        4\n",
       "TAMOIL                                   1\n",
       "TANKCENTER                               2\n",
       "TANKHOF IFFEZHEIM                        1\n",
       "TANKSTELLE HEINZ                         1\n",
       "TOP                                      1\n",
       "TOTAL                                   30\n",
       "TS ARNT                                  1\n",
       "WINKLER                                  2\n",
       "\\N                                       3\n",
       "dtype: int64"
      ]
     },
     "execution_count": 29,
     "metadata": {},
     "output_type": "execute_result"
    }
   ],
   "source": [
    "gas_station.groupby('BRAND').size()\n"
   ]
  },
  {
   "cell_type": "code",
   "execution_count": 30,
   "metadata": {},
   "outputs": [
    {
     "name": "stdout",
     "output_type": "stream",
     "text": [
      "Total number of unique brands after cleaning is: 42\n"
     ]
    }
   ],
   "source": [
    "print('Total number of unique brands after cleaning is: {0}'.format(gas_station.BRAND.nunique()))"
   ]
  },
  {
   "cell_type": "markdown",
   "metadata": {},
   "source": [
    "The total no of brands reduced to 42 after corrections to brandname\n"
   ]
  },
  {
   "cell_type": "markdown",
   "metadata": {},
   "source": [
    "<a id=section308></a>"
   ]
  },
  {
   "cell_type": "code",
   "execution_count": 31,
   "metadata": {},
   "outputs": [
    {
     "data": {
      "text/html": [
       "<div>\n",
       "<style scoped>\n",
       "    .dataframe tbody tr th:only-of-type {\n",
       "        vertical-align: middle;\n",
       "    }\n",
       "\n",
       "    .dataframe tbody tr th {\n",
       "        vertical-align: top;\n",
       "    }\n",
       "\n",
       "    .dataframe thead th {\n",
       "        text-align: right;\n",
       "    }\n",
       "</style>\n",
       "<table border=\"1\" class=\"dataframe\">\n",
       "  <thead>\n",
       "    <tr style=\"text-align: right;\">\n",
       "      <th></th>\n",
       "      <th>ID</th>\n",
       "      <th>NAME</th>\n",
       "      <th>BRAND</th>\n",
       "      <th>STREET</th>\n",
       "      <th>POST_CODE</th>\n",
       "      <th>PLACE</th>\n",
       "      <th>LAT</th>\n",
       "      <th>LNG</th>\n",
       "      <th>ADDRESS</th>\n",
       "    </tr>\n",
       "  </thead>\n",
       "  <tbody>\n",
       "    <tr>\n",
       "      <th>0</th>\n",
       "      <td>d37bee76-91b6-485a-b974-24f1b0d391fa</td>\n",
       "      <td>Aral Tankstelle</td>\n",
       "      <td>ARAL</td>\n",
       "      <td>An der Tagweide</td>\n",
       "      <td>76139</td>\n",
       "      <td>Karlsruhe</td>\n",
       "      <td>49.020280</td>\n",
       "      <td>8.459429</td>\n",
       "      <td>Aral TankstelleAn der Tagweide76139Karlsruhe</td>\n",
       "    </tr>\n",
       "    <tr>\n",
       "      <th>1</th>\n",
       "      <td>51d4b652-a095-1aa0-e100-80009459e03a</td>\n",
       "      <td>JET MANNHEIM UNTERMUEHLAUSTRASSE 83</td>\n",
       "      <td>JET</td>\n",
       "      <td>UNTERMUEHLAUSTRASSE 83</td>\n",
       "      <td>68169</td>\n",
       "      <td>MANNHEIM</td>\n",
       "      <td>49.508962</td>\n",
       "      <td>8.467691</td>\n",
       "      <td>JET MANNHEIM UNTERMUEHLAUSTRASSE 83UNTERMUEHLA...</td>\n",
       "    </tr>\n",
       "    <tr>\n",
       "      <th>2</th>\n",
       "      <td>c7caf231-0e47-40db-92de-9349a2eb2bef</td>\n",
       "      <td>Aral Tankstelle</td>\n",
       "      <td>ARAL</td>\n",
       "      <td>Trippstadter Straße</td>\n",
       "      <td>67663</td>\n",
       "      <td>Kaiserslautern</td>\n",
       "      <td>49.433754</td>\n",
       "      <td>7.757465</td>\n",
       "      <td>Aral TankstelleTrippstadter Straße67663Kaisers...</td>\n",
       "    </tr>\n",
       "    <tr>\n",
       "      <th>3</th>\n",
       "      <td>51d4b53b-a095-1aa0-e100-80009459e03a</td>\n",
       "      <td>JET KAISERSLAUTERN PARISER STR. 167</td>\n",
       "      <td>JET</td>\n",
       "      <td>PARISER STR. 167</td>\n",
       "      <td>67655</td>\n",
       "      <td>KAISERSLAUTERN</td>\n",
       "      <td>49.442200</td>\n",
       "      <td>7.748360</td>\n",
       "      <td>JET KAISERSLAUTERN PARISER STR. 167PARISER STR...</td>\n",
       "    </tr>\n",
       "    <tr>\n",
       "      <th>4</th>\n",
       "      <td>51d4b70f-a095-1aa0-e100-80009459e03a</td>\n",
       "      <td>JET GERMERSHEIM MUENCHENER STRASSE 12</td>\n",
       "      <td>JET</td>\n",
       "      <td>MUENCHENER STRASSE 12</td>\n",
       "      <td>76726</td>\n",
       "      <td>GERMERSHEIM</td>\n",
       "      <td>49.226800</td>\n",
       "      <td>8.374400</td>\n",
       "      <td>JET GERMERSHEIM MUENCHENER STRASSE 12MUENCHENE...</td>\n",
       "    </tr>\n",
       "  </tbody>\n",
       "</table>\n",
       "</div>"
      ],
      "text/plain": [
       "                                     ID  \\\n",
       "0  d37bee76-91b6-485a-b974-24f1b0d391fa   \n",
       "1  51d4b652-a095-1aa0-e100-80009459e03a   \n",
       "2  c7caf231-0e47-40db-92de-9349a2eb2bef   \n",
       "3  51d4b53b-a095-1aa0-e100-80009459e03a   \n",
       "4  51d4b70f-a095-1aa0-e100-80009459e03a   \n",
       "\n",
       "                                    NAME BRAND                  STREET  \\\n",
       "0                        Aral Tankstelle  ARAL         An der Tagweide   \n",
       "1    JET MANNHEIM UNTERMUEHLAUSTRASSE 83   JET  UNTERMUEHLAUSTRASSE 83   \n",
       "2                        Aral Tankstelle  ARAL     Trippstadter Straße   \n",
       "3    JET KAISERSLAUTERN PARISER STR. 167   JET        PARISER STR. 167   \n",
       "4  JET GERMERSHEIM MUENCHENER STRASSE 12   JET   MUENCHENER STRASSE 12   \n",
       "\n",
       "  POST_CODE           PLACE        LAT       LNG  \\\n",
       "0     76139       Karlsruhe  49.020280  8.459429   \n",
       "1     68169        MANNHEIM  49.508962  8.467691   \n",
       "2     67663  Kaiserslautern  49.433754  7.757465   \n",
       "3     67655  KAISERSLAUTERN  49.442200  7.748360   \n",
       "4     76726     GERMERSHEIM  49.226800  8.374400   \n",
       "\n",
       "                                             ADDRESS  \n",
       "0       Aral TankstelleAn der Tagweide76139Karlsruhe  \n",
       "1  JET MANNHEIM UNTERMUEHLAUSTRASSE 83UNTERMUEHLA...  \n",
       "2  Aral TankstelleTrippstadter Straße67663Kaisers...  \n",
       "3  JET KAISERSLAUTERN PARISER STR. 167PARISER STR...  \n",
       "4  JET GERMERSHEIM MUENCHENER STRASSE 12MUENCHENE...  "
      ]
     },
     "execution_count": 31,
     "metadata": {},
     "output_type": "execute_result"
    }
   ],
   "source": [
    "#joining the columns NAME,STREET,PLACE\n",
    "\n",
    "gas_station[\"ADDRESS\"] = gas_station['NAME'].str.cat(gas_station[['STREET','POST_CODE','PLACE']])\n",
    "\n",
    "gas_station.head()\n"
   ]
  },
  {
   "cell_type": "code",
   "execution_count": 32,
   "metadata": {},
   "outputs": [],
   "source": [
    "# Removing 'VERSION' ,'VERSION_TIME' ,'PUBLIC_HOLIDAY_IDENTIFIER'& 'HOUSE_NUMBER'columns\n",
    "gas_station= gas_station.drop(['STREET','PLACE', 'NAME'], axis=1)"
   ]
  },
  {
   "cell_type": "markdown",
   "metadata": {},
   "source": [
    "<a id=section4></a>\n",
    "## 4. Data Normalization"
   ]
  },
  {
   "cell_type": "markdown",
   "metadata": {},
   "source": [
    "<a id=section401></a>"
   ]
  },
  {
   "cell_type": "code",
   "execution_count": 33,
   "metadata": {},
   "outputs": [],
   "source": [
    "# Renaming the STID column to 'ID' in fuel_prices DF and mergin with gas_station DF\n",
    "fuel_prices.rename(columns={'STID': 'ID'}, inplace=True)\n",
    "gas_station_fuel_prices = pd.merge(gas_station, fuel_prices, on='ID', how='inner')\n",
    "\n"
   ]
  },
  {
   "cell_type": "markdown",
   "metadata": {},
   "source": [
    "<a id=section402></a>"
   ]
  },
  {
   "cell_type": "code",
   "execution_count": 34,
   "metadata": {
    "scrolled": true
   },
   "outputs": [
    {
     "data": {
      "text/html": [
       "<div>\n",
       "<style scoped>\n",
       "    .dataframe tbody tr th:only-of-type {\n",
       "        vertical-align: middle;\n",
       "    }\n",
       "\n",
       "    .dataframe tbody tr th {\n",
       "        vertical-align: top;\n",
       "    }\n",
       "\n",
       "    .dataframe thead th {\n",
       "        text-align: right;\n",
       "    }\n",
       "</style>\n",
       "<table border=\"1\" class=\"dataframe\">\n",
       "  <thead>\n",
       "    <tr style=\"text-align: right;\">\n",
       "      <th></th>\n",
       "      <th>ID</th>\n",
       "      <th>BRAND</th>\n",
       "      <th>POST_CODE</th>\n",
       "      <th>LAT</th>\n",
       "      <th>LNG</th>\n",
       "      <th>ADDRESS</th>\n",
       "      <th>E5</th>\n",
       "      <th>E10</th>\n",
       "      <th>DIESEL</th>\n",
       "      <th>CHANGED</th>\n",
       "    </tr>\n",
       "    <tr>\n",
       "      <th>DATE_CHANGED</th>\n",
       "      <th></th>\n",
       "      <th></th>\n",
       "      <th></th>\n",
       "      <th></th>\n",
       "      <th></th>\n",
       "      <th></th>\n",
       "      <th></th>\n",
       "      <th></th>\n",
       "      <th></th>\n",
       "      <th></th>\n",
       "    </tr>\n",
       "  </thead>\n",
       "  <tbody>\n",
       "    <tr>\n",
       "      <th>2014-12-14 16:30:01</th>\n",
       "      <td>d37bee76-91b6-485a-b974-24f1b0d391fa</td>\n",
       "      <td>ARAL</td>\n",
       "      <td>76139</td>\n",
       "      <td>49.02028</td>\n",
       "      <td>8.459429</td>\n",
       "      <td>Aral TankstelleAn der Tagweide76139Karlsruhe</td>\n",
       "      <td>1369</td>\n",
       "      <td>1329</td>\n",
       "      <td>1219</td>\n",
       "      <td>63</td>\n",
       "    </tr>\n",
       "    <tr>\n",
       "      <th>2014-12-14 20:02:01</th>\n",
       "      <td>d37bee76-91b6-485a-b974-24f1b0d391fa</td>\n",
       "      <td>ARAL</td>\n",
       "      <td>76139</td>\n",
       "      <td>49.02028</td>\n",
       "      <td>8.459429</td>\n",
       "      <td>Aral TankstelleAn der Tagweide76139Karlsruhe</td>\n",
       "      <td>1409</td>\n",
       "      <td>1369</td>\n",
       "      <td>1269</td>\n",
       "      <td>21</td>\n",
       "    </tr>\n",
       "    <tr>\n",
       "      <th>2014-12-15 20:02:01</th>\n",
       "      <td>d37bee76-91b6-485a-b974-24f1b0d391fa</td>\n",
       "      <td>ARAL</td>\n",
       "      <td>76139</td>\n",
       "      <td>49.02028</td>\n",
       "      <td>8.459429</td>\n",
       "      <td>Aral TankstelleAn der Tagweide76139Karlsruhe</td>\n",
       "      <td>1409</td>\n",
       "      <td>1369</td>\n",
       "      <td>1269</td>\n",
       "      <td>21</td>\n",
       "    </tr>\n",
       "    <tr>\n",
       "      <th>2014-12-16 20:02:01</th>\n",
       "      <td>d37bee76-91b6-485a-b974-24f1b0d391fa</td>\n",
       "      <td>ARAL</td>\n",
       "      <td>76139</td>\n",
       "      <td>49.02028</td>\n",
       "      <td>8.459429</td>\n",
       "      <td>Aral TankstelleAn der Tagweide76139Karlsruhe</td>\n",
       "      <td>1399</td>\n",
       "      <td>1359</td>\n",
       "      <td>1259</td>\n",
       "      <td>21</td>\n",
       "    </tr>\n",
       "    <tr>\n",
       "      <th>2014-12-17 05:06:01</th>\n",
       "      <td>d37bee76-91b6-485a-b974-24f1b0d391fa</td>\n",
       "      <td>ARAL</td>\n",
       "      <td>76139</td>\n",
       "      <td>49.02028</td>\n",
       "      <td>8.459429</td>\n",
       "      <td>Aral TankstelleAn der Tagweide76139Karlsruhe</td>\n",
       "      <td>1379</td>\n",
       "      <td>1339</td>\n",
       "      <td>1239</td>\n",
       "      <td>21</td>\n",
       "    </tr>\n",
       "  </tbody>\n",
       "</table>\n",
       "</div>"
      ],
      "text/plain": [
       "                                                       ID BRAND POST_CODE  \\\n",
       "DATE_CHANGED                                                                \n",
       "2014-12-14 16:30:01  d37bee76-91b6-485a-b974-24f1b0d391fa  ARAL     76139   \n",
       "2014-12-14 20:02:01  d37bee76-91b6-485a-b974-24f1b0d391fa  ARAL     76139   \n",
       "2014-12-15 20:02:01  d37bee76-91b6-485a-b974-24f1b0d391fa  ARAL     76139   \n",
       "2014-12-16 20:02:01  d37bee76-91b6-485a-b974-24f1b0d391fa  ARAL     76139   \n",
       "2014-12-17 05:06:01  d37bee76-91b6-485a-b974-24f1b0d391fa  ARAL     76139   \n",
       "\n",
       "                          LAT       LNG  \\\n",
       "DATE_CHANGED                              \n",
       "2014-12-14 16:30:01  49.02028  8.459429   \n",
       "2014-12-14 20:02:01  49.02028  8.459429   \n",
       "2014-12-15 20:02:01  49.02028  8.459429   \n",
       "2014-12-16 20:02:01  49.02028  8.459429   \n",
       "2014-12-17 05:06:01  49.02028  8.459429   \n",
       "\n",
       "                                                          ADDRESS    E5   E10  \\\n",
       "DATE_CHANGED                                                                    \n",
       "2014-12-14 16:30:01  Aral TankstelleAn der Tagweide76139Karlsruhe  1369  1329   \n",
       "2014-12-14 20:02:01  Aral TankstelleAn der Tagweide76139Karlsruhe  1409  1369   \n",
       "2014-12-15 20:02:01  Aral TankstelleAn der Tagweide76139Karlsruhe  1409  1369   \n",
       "2014-12-16 20:02:01  Aral TankstelleAn der Tagweide76139Karlsruhe  1399  1359   \n",
       "2014-12-17 05:06:01  Aral TankstelleAn der Tagweide76139Karlsruhe  1379  1339   \n",
       "\n",
       "                     DIESEL  CHANGED  \n",
       "DATE_CHANGED                          \n",
       "2014-12-14 16:30:01    1219       63  \n",
       "2014-12-14 20:02:01    1269       21  \n",
       "2014-12-15 20:02:01    1269       21  \n",
       "2014-12-16 20:02:01    1259       21  \n",
       "2014-12-17 05:06:01    1239       21  "
      ]
     },
     "execution_count": 34,
     "metadata": {},
     "output_type": "execute_result"
    }
   ],
   "source": [
    "# Converting the DATE_CHANGED column type from generic object type to datetime type to suit Time Series Analysis\n",
    "gas_station_fuel_prices['DATE_CHANGED'] = pd.to_datetime(gas_station_fuel_prices['DATE_CHANGED'])\n",
    "\n",
    "# Resetting the index of DataFrame with DATE_CHANGED column to enable time-stamp based indexing\n",
    "gas_station_fuel_prices = gas_station_fuel_prices.set_index('DATE_CHANGED')\n",
    "\n",
    "gas_station_fuel_prices.head()"
   ]
  },
  {
   "cell_type": "code",
   "execution_count": null,
   "metadata": {},
   "outputs": [],
   "source": []
  },
  {
   "cell_type": "markdown",
   "metadata": {},
   "source": [
    "<a id=section403></a>"
   ]
  },
  {
   "cell_type": "code",
   "execution_count": 35,
   "metadata": {},
   "outputs": [
    {
     "data": {
      "text/html": [
       "<div>\n",
       "<style scoped>\n",
       "    .dataframe tbody tr th:only-of-type {\n",
       "        vertical-align: middle;\n",
       "    }\n",
       "\n",
       "    .dataframe tbody tr th {\n",
       "        vertical-align: top;\n",
       "    }\n",
       "\n",
       "    .dataframe thead th {\n",
       "        text-align: right;\n",
       "    }\n",
       "</style>\n",
       "<table border=\"1\" class=\"dataframe\">\n",
       "  <thead>\n",
       "    <tr style=\"text-align: right;\">\n",
       "      <th></th>\n",
       "      <th>ID</th>\n",
       "      <th>BRAND</th>\n",
       "      <th>POST_CODE</th>\n",
       "      <th>LAT</th>\n",
       "      <th>LNG</th>\n",
       "      <th>ADDRESS</th>\n",
       "      <th>E5</th>\n",
       "      <th>E10</th>\n",
       "      <th>DIESEL</th>\n",
       "      <th>CHANGED</th>\n",
       "      <th>Year</th>\n",
       "      <th>Month</th>\n",
       "      <th>Week</th>\n",
       "      <th>Day</th>\n",
       "    </tr>\n",
       "    <tr>\n",
       "      <th>DATE_CHANGED</th>\n",
       "      <th></th>\n",
       "      <th></th>\n",
       "      <th></th>\n",
       "      <th></th>\n",
       "      <th></th>\n",
       "      <th></th>\n",
       "      <th></th>\n",
       "      <th></th>\n",
       "      <th></th>\n",
       "      <th></th>\n",
       "      <th></th>\n",
       "      <th></th>\n",
       "      <th></th>\n",
       "      <th></th>\n",
       "    </tr>\n",
       "  </thead>\n",
       "  <tbody>\n",
       "    <tr>\n",
       "      <th>2014-10-21 20:02:01</th>\n",
       "      <td>8b930d25-dbee-4b04-99ac-3da3f5d5343c</td>\n",
       "      <td>SHELL</td>\n",
       "      <td>66955</td>\n",
       "      <td>49.195300</td>\n",
       "      <td>7.596980</td>\n",
       "      <td>PIRMASENS WINZLERSTRWINZLERSTR. 9366955PIRMASENS</td>\n",
       "      <td>1509</td>\n",
       "      <td>1469</td>\n",
       "      <td>1329</td>\n",
       "      <td>21</td>\n",
       "      <td>2014</td>\n",
       "      <td>10</td>\n",
       "      <td>43</td>\n",
       "      <td>Tuesday</td>\n",
       "    </tr>\n",
       "    <tr>\n",
       "      <th>2015-03-09 08:54:01</th>\n",
       "      <td>51d4b69f-a095-1aa0-e100-80009459e03a</td>\n",
       "      <td>SUPERMARKT TANKSTELLE</td>\n",
       "      <td>67071</td>\n",
       "      <td>49.491300</td>\n",
       "      <td>8.355880</td>\n",
       "      <td>Supermarkt-Tankstelle LUDWIGSHAFEN OGGERSHEIM ...</td>\n",
       "      <td>1369</td>\n",
       "      <td>1349</td>\n",
       "      <td>1199</td>\n",
       "      <td>21</td>\n",
       "      <td>2015</td>\n",
       "      <td>3</td>\n",
       "      <td>11</td>\n",
       "      <td>Monday</td>\n",
       "    </tr>\n",
       "    <tr>\n",
       "      <th>2015-04-10 12:46:01</th>\n",
       "      <td>51d4b599-a095-1aa0-e100-80009459e03a</td>\n",
       "      <td>JET</td>\n",
       "      <td>76131</td>\n",
       "      <td>49.013100</td>\n",
       "      <td>8.428480</td>\n",
       "      <td>JET KARLSRUHE HAID-UND-NEU-STR. 30 AHAID-UND-N...</td>\n",
       "      <td>1439</td>\n",
       "      <td>1419</td>\n",
       "      <td>1219</td>\n",
       "      <td>21</td>\n",
       "      <td>2015</td>\n",
       "      <td>4</td>\n",
       "      <td>15</td>\n",
       "      <td>Friday</td>\n",
       "    </tr>\n",
       "    <tr>\n",
       "      <th>2014-08-22 13:14:01</th>\n",
       "      <td>01bf5a06-4248-43a5-9524-56123fa3ab2f</td>\n",
       "      <td>ESSO</td>\n",
       "      <td>67551</td>\n",
       "      <td>49.633409</td>\n",
       "      <td>8.273847</td>\n",
       "      <td>Esso TankstelleZELLERTALSTR. 3067551WORMS</td>\n",
       "      <td>1539</td>\n",
       "      <td>1499</td>\n",
       "      <td>1329</td>\n",
       "      <td>1</td>\n",
       "      <td>2014</td>\n",
       "      <td>8</td>\n",
       "      <td>34</td>\n",
       "      <td>Friday</td>\n",
       "    </tr>\n",
       "    <tr>\n",
       "      <th>2015-02-12 09:18:01</th>\n",
       "      <td>530cb248-0cec-43b6-9057-2d5179deb386</td>\n",
       "      <td>ARAL</td>\n",
       "      <td>67069</td>\n",
       "      <td>49.534020</td>\n",
       "      <td>8.388857</td>\n",
       "      <td>Aral TankstelleOppauer Straße67069Ludwigshafen</td>\n",
       "      <td>1319</td>\n",
       "      <td>1299</td>\n",
       "      <td>1159</td>\n",
       "      <td>21</td>\n",
       "      <td>2015</td>\n",
       "      <td>2</td>\n",
       "      <td>7</td>\n",
       "      <td>Thursday</td>\n",
       "    </tr>\n",
       "  </tbody>\n",
       "</table>\n",
       "</div>"
      ],
      "text/plain": [
       "                                                       ID  \\\n",
       "DATE_CHANGED                                                \n",
       "2014-10-21 20:02:01  8b930d25-dbee-4b04-99ac-3da3f5d5343c   \n",
       "2015-03-09 08:54:01  51d4b69f-a095-1aa0-e100-80009459e03a   \n",
       "2015-04-10 12:46:01  51d4b599-a095-1aa0-e100-80009459e03a   \n",
       "2014-08-22 13:14:01  01bf5a06-4248-43a5-9524-56123fa3ab2f   \n",
       "2015-02-12 09:18:01  530cb248-0cec-43b6-9057-2d5179deb386   \n",
       "\n",
       "                                     BRAND POST_CODE        LAT       LNG  \\\n",
       "DATE_CHANGED                                                                \n",
       "2014-10-21 20:02:01                  SHELL     66955  49.195300  7.596980   \n",
       "2015-03-09 08:54:01  SUPERMARKT TANKSTELLE     67071  49.491300  8.355880   \n",
       "2015-04-10 12:46:01                    JET     76131  49.013100  8.428480   \n",
       "2014-08-22 13:14:01                   ESSO     67551  49.633409  8.273847   \n",
       "2015-02-12 09:18:01                   ARAL     67069  49.534020  8.388857   \n",
       "\n",
       "                                                               ADDRESS    E5  \\\n",
       "DATE_CHANGED                                                                   \n",
       "2014-10-21 20:02:01   PIRMASENS WINZLERSTRWINZLERSTR. 9366955PIRMASENS  1509   \n",
       "2015-03-09 08:54:01  Supermarkt-Tankstelle LUDWIGSHAFEN OGGERSHEIM ...  1369   \n",
       "2015-04-10 12:46:01  JET KARLSRUHE HAID-UND-NEU-STR. 30 AHAID-UND-N...  1439   \n",
       "2014-08-22 13:14:01          Esso TankstelleZELLERTALSTR. 3067551WORMS  1539   \n",
       "2015-02-12 09:18:01     Aral TankstelleOppauer Straße67069Ludwigshafen  1319   \n",
       "\n",
       "                      E10  DIESEL  CHANGED  Year  Month  Week       Day  \n",
       "DATE_CHANGED                                                             \n",
       "2014-10-21 20:02:01  1469    1329       21  2014     10    43   Tuesday  \n",
       "2015-03-09 08:54:01  1349    1199       21  2015      3    11    Monday  \n",
       "2015-04-10 12:46:01  1419    1219       21  2015      4    15    Friday  \n",
       "2014-08-22 13:14:01  1499    1329        1  2014      8    34    Friday  \n",
       "2015-02-12 09:18:01  1299    1159       21  2015      2     7  Thursday  "
      ]
     },
     "execution_count": 35,
     "metadata": {},
     "output_type": "execute_result"
    }
   ],
   "source": [
    "# Adding Year, Month, Week, Day\n",
    "gas_station_fuel_prices['Year'] = gas_station_fuel_prices.index.year\n",
    "gas_station_fuel_prices['Month'] = gas_station_fuel_prices.index.month\n",
    "gas_station_fuel_prices['Week'] = gas_station_fuel_prices.index.week\n",
    "gas_station_fuel_prices['Day'] = gas_station_fuel_prices.index.weekday_name\n",
    "\n",
    "# Sample \n",
    "gas_station_fuel_prices.sample(5, random_state=0)"
   ]
  },
  {
   "cell_type": "markdown",
   "metadata": {},
   "source": [
    "<a id=section404></a>"
   ]
  },
  {
   "cell_type": "code",
   "execution_count": 36,
   "metadata": {},
   "outputs": [
    {
     "data": {
      "text/html": [
       "<div>\n",
       "<style scoped>\n",
       "    .dataframe tbody tr th:only-of-type {\n",
       "        vertical-align: middle;\n",
       "    }\n",
       "\n",
       "    .dataframe tbody tr th {\n",
       "        vertical-align: top;\n",
       "    }\n",
       "\n",
       "    .dataframe thead th {\n",
       "        text-align: right;\n",
       "    }\n",
       "</style>\n",
       "<table border=\"1\" class=\"dataframe\">\n",
       "  <thead>\n",
       "    <tr style=\"text-align: right;\">\n",
       "      <th></th>\n",
       "      <th>BRAND</th>\n",
       "      <th>E5</th>\n",
       "      <th>E10</th>\n",
       "      <th>DIESEL</th>\n",
       "    </tr>\n",
       "    <tr>\n",
       "      <th>DATE_CHANGED</th>\n",
       "      <th></th>\n",
       "      <th></th>\n",
       "      <th></th>\n",
       "      <th></th>\n",
       "    </tr>\n",
       "  </thead>\n",
       "  <tbody>\n",
       "    <tr>\n",
       "      <th>2014-12-14 16:30:01</th>\n",
       "      <td>ARAL</td>\n",
       "      <td>1369</td>\n",
       "      <td>1329</td>\n",
       "      <td>1219</td>\n",
       "    </tr>\n",
       "    <tr>\n",
       "      <th>2014-12-14 20:02:01</th>\n",
       "      <td>ARAL</td>\n",
       "      <td>1409</td>\n",
       "      <td>1369</td>\n",
       "      <td>1269</td>\n",
       "    </tr>\n",
       "    <tr>\n",
       "      <th>2014-12-15 20:02:01</th>\n",
       "      <td>ARAL</td>\n",
       "      <td>1409</td>\n",
       "      <td>1369</td>\n",
       "      <td>1269</td>\n",
       "    </tr>\n",
       "    <tr>\n",
       "      <th>2014-12-16 20:02:01</th>\n",
       "      <td>ARAL</td>\n",
       "      <td>1399</td>\n",
       "      <td>1359</td>\n",
       "      <td>1259</td>\n",
       "    </tr>\n",
       "    <tr>\n",
       "      <th>2014-12-17 05:06:01</th>\n",
       "      <td>ARAL</td>\n",
       "      <td>1379</td>\n",
       "      <td>1339</td>\n",
       "      <td>1239</td>\n",
       "    </tr>\n",
       "  </tbody>\n",
       "</table>\n",
       "</div>"
      ],
      "text/plain": [
       "                    BRAND    E5   E10  DIESEL\n",
       "DATE_CHANGED                                 \n",
       "2014-12-14 16:30:01  ARAL  1369  1329    1219\n",
       "2014-12-14 20:02:01  ARAL  1409  1369    1269\n",
       "2014-12-15 20:02:01  ARAL  1409  1369    1269\n",
       "2014-12-16 20:02:01  ARAL  1399  1359    1259\n",
       "2014-12-17 05:06:01  ARAL  1379  1339    1239"
      ]
     },
     "execution_count": 36,
     "metadata": {},
     "output_type": "execute_result"
    }
   ],
   "source": [
    "# Subsetting brand and their respective gas type prices only\n",
    "brand_prices = gas_station_fuel_prices[['BRAND','E5', 'E10', 'DIESEL']]\n",
    "brand_prices.head()"
   ]
  },
  {
   "cell_type": "markdown",
   "metadata": {},
   "source": [
    "<a id=section5></a>\n",
    "## 5. EDA through Questions"
   ]
  },
  {
   "cell_type": "markdown",
   "metadata": {},
   "source": [
    "<a id=section501></a>"
   ]
  },
  {
   "cell_type": "markdown",
   "metadata": {},
   "source": [
    "#### 1. How many different stations exist in the data set and what is the existing history in days?"
   ]
  },
  {
   "cell_type": "code",
   "execution_count": 37,
   "metadata": {},
   "outputs": [
    {
     "name": "stdout",
     "output_type": "stream",
     "text": [
      "The number of different stations in data set are: 399\n",
      "The number of different brands in data set are: 42\n"
     ]
    }
   ],
   "source": [
    "##  Number of  stations in original  Dataset are 412 ,Number of stations after removing brands with nan and NICHT MEHR AKTIV  \n",
    "print('The number of different stations in data set are: {0}'.format(gas_station_fuel_prices.ID.nunique()))\n",
    "\n",
    "print('The number of different brands in data set are: {0}'.format(gas_station_fuel_prices.BRAND.nunique()))"
   ]
  },
  {
   "cell_type": "markdown",
   "metadata": {},
   "source": [
    "<a id=section502></a>"
   ]
  },
  {
   "cell_type": "markdown",
   "metadata": {},
   "source": [
    "#### 2. What is the min, mean, max price for each gasoline type and station weekly?"
   ]
  },
  {
   "cell_type": "code",
   "execution_count": 38,
   "metadata": {
    "scrolled": true
   },
   "outputs": [
    {
     "data": {
      "text/plain": [
       "<matplotlib.axes._subplots.AxesSubplot at 0x17c39faa748>"
      ]
     },
     "execution_count": 38,
     "metadata": {},
     "output_type": "execute_result"
    },
    {
     "data": {
      "image/png": "[encoded data removed]",
      "text/plain": [
       "<Figure size 800x500 with 1 Axes>"
      ]
     },
     "metadata": {},
     "output_type": "display_data"
    }
   ],
   "source": [
    "# Weekly Minimum Price of Each Gasoline Type:\n",
    "weekly_min = brand_prices.resample('W').min()\n",
    "weekly_min.plot(figsize=(8,5), style=[':', '--', '-'])"
   ]
  },
  {
   "cell_type": "markdown",
   "metadata": {},
   "source": [
    "_The min prices of gassoline types are:_ <br>\n",
    "a. __E5__ : __1000 (approx)__ <br>\n",
    "b. __E10__ : __1000__ <br>\n",
    "c. __DIESEL__ : __1100 (approx)__ <br>"
   ]
  },
  {
   "cell_type": "code",
   "execution_count": 39,
   "metadata": {},
   "outputs": [
    {
     "data": {
      "text/plain": [
       "<matplotlib.axes._subplots.AxesSubplot at 0x17c325a1710>"
      ]
     },
     "execution_count": 39,
     "metadata": {},
     "output_type": "execute_result"
    },
    {
     "data": {
      "image/png": "[encoded data removed]",
      "text/plain": [
       "<Figure size 800x500 with 1 Axes>"
      ]
     },
     "metadata": {},
     "output_type": "display_data"
    }
   ],
   "source": [
    "# Weekly Mean Price of Each Gasoline Type:\n",
    "weekly_mean = brand_prices.resample('W').mean()\n",
    "weekly_mean.plot(figsize=(8,5), style=[':', '--', '-'])"
   ]
  },
  {
   "cell_type": "markdown",
   "metadata": {},
   "source": [
    "_The mean prices of gasoline types are:_ <br>\n",
    "a. __E5__ : __1610 (approx)__ <br>\n",
    "b. __E10__ : __1540 (aprox)__ <br>\n",
    "c. __DIESEL__ : __1400 (approx)__ <br>"
   ]
  },
  {
   "cell_type": "code",
   "execution_count": 40,
   "metadata": {},
   "outputs": [
    {
     "data": {
      "text/plain": [
       "<matplotlib.axes._subplots.AxesSubplot at 0x17c326354e0>"
      ]
     },
     "execution_count": 40,
     "metadata": {},
     "output_type": "execute_result"
    },
    {
     "data": {
      "image/png": "[encoded data removed]",
      "text/plain": [
       "<Figure size 800x500 with 1 Axes>"
      ]
     },
     "metadata": {},
     "output_type": "display_data"
    }
   ],
   "source": [
    "# Weekly Maximum Price of Each Gasoline Type:\n",
    "weekly_max = brand_prices.resample('W').max()\n",
    "weekly_max.plot(figsize=(8,5), style=[':', '--', '-'])"
   ]
  },
  {
   "cell_type": "markdown",
   "metadata": {},
   "source": [
    "_The maximum prices of gasoline types are:_ <br>\n",
    "a. __E5__ : __10000 (approx)__<br>\n",
    "b. __E10__ : __1900 (approx)__<br>\n",
    "c. __DIESEL__ : __11000 (approx)__ <br>"
   ]
  },
  {
   "cell_type": "markdown",
   "metadata": {},
   "source": [
    "<a id=section503></a>"
   ]
  },
  {
   "cell_type": "markdown",
   "metadata": {},
   "source": [
    "#### 3. What is the cheapest station (in average) and why?"
   ]
  },
  {
   "cell_type": "code",
   "execution_count": 41,
   "metadata": {
    "collapsed": true
   },
   "outputs": [
    {
     "data": {
      "text/html": [
       "<div>\n",
       "<style scoped>\n",
       "    .dataframe tbody tr th:only-of-type {\n",
       "        vertical-align: middle;\n",
       "    }\n",
       "\n",
       "    .dataframe tbody tr th {\n",
       "        vertical-align: top;\n",
       "    }\n",
       "\n",
       "    .dataframe thead th {\n",
       "        text-align: right;\n",
       "    }\n",
       "</style>\n",
       "<table border=\"1\" class=\"dataframe\">\n",
       "  <thead>\n",
       "    <tr style=\"text-align: right;\">\n",
       "      <th></th>\n",
       "      <th>ID</th>\n",
       "      <th>BRAND</th>\n",
       "      <th>POST_CODE</th>\n",
       "      <th>LAT</th>\n",
       "      <th>LNG</th>\n",
       "      <th>ADDRESS</th>\n",
       "      <th>E5</th>\n",
       "      <th>E10</th>\n",
       "      <th>DIESEL</th>\n",
       "      <th>CHANGED</th>\n",
       "      <th>Year</th>\n",
       "      <th>Month</th>\n",
       "      <th>Week</th>\n",
       "      <th>Day</th>\n",
       "    </tr>\n",
       "    <tr>\n",
       "      <th>DATE_CHANGED</th>\n",
       "      <th></th>\n",
       "      <th></th>\n",
       "      <th></th>\n",
       "      <th></th>\n",
       "      <th></th>\n",
       "      <th></th>\n",
       "      <th></th>\n",
       "      <th></th>\n",
       "      <th></th>\n",
       "      <th></th>\n",
       "      <th></th>\n",
       "      <th></th>\n",
       "      <th></th>\n",
       "      <th></th>\n",
       "    </tr>\n",
       "  </thead>\n",
       "  <tbody>\n",
       "    <tr>\n",
       "      <th>2014-12-14 16:30:01</th>\n",
       "      <td>d37bee76-91b6-485a-b974-24f1b0d391fa</td>\n",
       "      <td>ARAL</td>\n",
       "      <td>76139</td>\n",
       "      <td>49.02028</td>\n",
       "      <td>8.459429</td>\n",
       "      <td>Aral TankstelleAn der Tagweide76139Karlsruhe</td>\n",
       "      <td>1369</td>\n",
       "      <td>1329</td>\n",
       "      <td>1219</td>\n",
       "      <td>63</td>\n",
       "      <td>2014</td>\n",
       "      <td>12</td>\n",
       "      <td>50</td>\n",
       "      <td>Sunday</td>\n",
       "    </tr>\n",
       "    <tr>\n",
       "      <th>2014-12-14 20:02:01</th>\n",
       "      <td>d37bee76-91b6-485a-b974-24f1b0d391fa</td>\n",
       "      <td>ARAL</td>\n",
       "      <td>76139</td>\n",
       "      <td>49.02028</td>\n",
       "      <td>8.459429</td>\n",
       "      <td>Aral TankstelleAn der Tagweide76139Karlsruhe</td>\n",
       "      <td>1409</td>\n",
       "      <td>1369</td>\n",
       "      <td>1269</td>\n",
       "      <td>21</td>\n",
       "      <td>2014</td>\n",
       "      <td>12</td>\n",
       "      <td>50</td>\n",
       "      <td>Sunday</td>\n",
       "    </tr>\n",
       "    <tr>\n",
       "      <th>2014-12-15 20:02:01</th>\n",
       "      <td>d37bee76-91b6-485a-b974-24f1b0d391fa</td>\n",
       "      <td>ARAL</td>\n",
       "      <td>76139</td>\n",
       "      <td>49.02028</td>\n",
       "      <td>8.459429</td>\n",
       "      <td>Aral TankstelleAn der Tagweide76139Karlsruhe</td>\n",
       "      <td>1409</td>\n",
       "      <td>1369</td>\n",
       "      <td>1269</td>\n",
       "      <td>21</td>\n",
       "      <td>2014</td>\n",
       "      <td>12</td>\n",
       "      <td>51</td>\n",
       "      <td>Monday</td>\n",
       "    </tr>\n",
       "    <tr>\n",
       "      <th>2014-12-16 20:02:01</th>\n",
       "      <td>d37bee76-91b6-485a-b974-24f1b0d391fa</td>\n",
       "      <td>ARAL</td>\n",
       "      <td>76139</td>\n",
       "      <td>49.02028</td>\n",
       "      <td>8.459429</td>\n",
       "      <td>Aral TankstelleAn der Tagweide76139Karlsruhe</td>\n",
       "      <td>1399</td>\n",
       "      <td>1359</td>\n",
       "      <td>1259</td>\n",
       "      <td>21</td>\n",
       "      <td>2014</td>\n",
       "      <td>12</td>\n",
       "      <td>51</td>\n",
       "      <td>Tuesday</td>\n",
       "    </tr>\n",
       "    <tr>\n",
       "      <th>2014-12-17 05:06:01</th>\n",
       "      <td>d37bee76-91b6-485a-b974-24f1b0d391fa</td>\n",
       "      <td>ARAL</td>\n",
       "      <td>76139</td>\n",
       "      <td>49.02028</td>\n",
       "      <td>8.459429</td>\n",
       "      <td>Aral TankstelleAn der Tagweide76139Karlsruhe</td>\n",
       "      <td>1379</td>\n",
       "      <td>1339</td>\n",
       "      <td>1239</td>\n",
       "      <td>21</td>\n",
       "      <td>2014</td>\n",
       "      <td>12</td>\n",
       "      <td>51</td>\n",
       "      <td>Wednesday</td>\n",
       "    </tr>\n",
       "  </tbody>\n",
       "</table>\n",
       "</div>"
      ],
      "text/plain": [
       "                                                       ID BRAND POST_CODE  \\\n",
       "DATE_CHANGED                                                                \n",
       "2014-12-14 16:30:01  d37bee76-91b6-485a-b974-24f1b0d391fa  ARAL     76139   \n",
       "2014-12-14 20:02:01  d37bee76-91b6-485a-b974-24f1b0d391fa  ARAL     76139   \n",
       "2014-12-15 20:02:01  d37bee76-91b6-485a-b974-24f1b0d391fa  ARAL     76139   \n",
       "2014-12-16 20:02:01  d37bee76-91b6-485a-b974-24f1b0d391fa  ARAL     76139   \n",
       "2014-12-17 05:06:01  d37bee76-91b6-485a-b974-24f1b0d391fa  ARAL     76139   \n",
       "\n",
       "                          LAT       LNG  \\\n",
       "DATE_CHANGED                              \n",
       "2014-12-14 16:30:01  49.02028  8.459429   \n",
       "2014-12-14 20:02:01  49.02028  8.459429   \n",
       "2014-12-15 20:02:01  49.02028  8.459429   \n",
       "2014-12-16 20:02:01  49.02028  8.459429   \n",
       "2014-12-17 05:06:01  49.02028  8.459429   \n",
       "\n",
       "                                                          ADDRESS    E5   E10  \\\n",
       "DATE_CHANGED                                                                    \n",
       "2014-12-14 16:30:01  Aral TankstelleAn der Tagweide76139Karlsruhe  1369  1329   \n",
       "2014-12-14 20:02:01  Aral TankstelleAn der Tagweide76139Karlsruhe  1409  1369   \n",
       "2014-12-15 20:02:01  Aral TankstelleAn der Tagweide76139Karlsruhe  1409  1369   \n",
       "2014-12-16 20:02:01  Aral TankstelleAn der Tagweide76139Karlsruhe  1399  1359   \n",
       "2014-12-17 05:06:01  Aral TankstelleAn der Tagweide76139Karlsruhe  1379  1339   \n",
       "\n",
       "                     DIESEL  CHANGED  Year  Month  Week        Day  \n",
       "DATE_CHANGED                                                        \n",
       "2014-12-14 16:30:01    1219       63  2014     12    50     Sunday  \n",
       "2014-12-14 20:02:01    1269       21  2014     12    50     Sunday  \n",
       "2014-12-15 20:02:01    1269       21  2014     12    51     Monday  \n",
       "2014-12-16 20:02:01    1259       21  2014     12    51    Tuesday  \n",
       "2014-12-17 05:06:01    1239       21  2014     12    51  Wednesday  "
      ]
     },
     "execution_count": 41,
     "metadata": {},
     "output_type": "execute_result"
    }
   ],
   "source": [
    "#gas_station_fuel_prices.groupby('BRAND').size()\n",
    "\n",
    "gas_station_fuel_prices.head()"
   ]
  },
  {
   "cell_type": "markdown",
   "metadata": {},
   "source": [
    "<a id=section504></a>"
   ]
  },
  {
   "cell_type": "markdown",
   "metadata": {},
   "source": [
    "#### 4. At which day of a week is the price most likely the cheapest (week profile)?"
   ]
  },
  {
   "cell_type": "code",
   "execution_count": 42,
   "metadata": {
    "collapsed": true
   },
   "outputs": [
    {
     "data": {
      "image/png": "[encoded data removed]",
      "text/plain": [
       "<Figure size 1100x1000 with 3 Axes>"
      ]
     },
     "metadata": {},
     "output_type": "display_data"
    }
   ],
   "source": [
    "fig, axes = plt.subplots(3, 1, figsize=(11, 10), sharex=True)\n",
    "for name, ax in zip(['E5', 'E10', 'DIESEL'], axes):\n",
    "    sns.boxplot(data=gas_station_fuel_prices, x='Day', y=name, ax=ax)\n",
    "    ax.set_ylabel('Prices')\n",
    "    ax.set_xlabel(' ')\n",
    "    ax.set_title(name)"
   ]
  },
  {
   "cell_type": "markdown",
   "metadata": {},
   "source": [
    "_The price is cheapest for below gas types on days:_ <br>\n",
    "a. __E5__ : __Tuesday__ <br>\n",
    "b. __E10__ : __Tuesday__ <br>\n",
    "c. __DIESEL__ : __Thursday__ <br>"
   ]
  },
  {
   "cell_type": "markdown",
   "metadata": {},
   "source": [
    "<a id=section505></a>"
   ]
  },
  {
   "cell_type": "markdown",
   "metadata": {},
   "source": [
    "#### 5. At which hour during a day is the price the cheapest in average (hour profile)?"
   ]
  },
  {
   "cell_type": "code",
   "execution_count": 43,
   "metadata": {},
   "outputs": [
    {
     "data": {
      "text/plain": [
       "(array([    0,  3600,  7200, 10800, 14400, 18000, 21600, 25200, 28800,\n",
       "        32400, 36000, 39600, 43200, 46800, 50400, 54000, 57600, 61200,\n",
       "        64800, 68400, 72000, 75600, 79200, 82800]),\n",
       " <a list of 24 Text xticklabel objects>)"
      ]
     },
     "execution_count": 43,
     "metadata": {},
     "output_type": "execute_result"
    },
    {
     "data": {
      "image/png": "[encoded data removed]",
      "text/plain": [
       "<Figure size 800x550 with 1 Axes>"
      ]
     },
     "metadata": {},
     "output_type": "display_data"
    }
   ],
   "source": [
    "hourly_prices = brand_prices.groupby(brand_prices.index.time).mean()\n",
    "hourly = 1 * 60 * 60 * np.arange(24)\n",
    "hourly_prices.plot(xticks=hourly, style=[':', '--', '-']);\n",
    "plt.ylabel('Mean hourly Prices')\n",
    "plt.xticks(rotation=70)"
   ]
  },
  {
   "cell_type": "markdown",
   "metadata": {},
   "source": [
    "_As we can see from above that the cheapest price of a fuel during a day is_:<br> \n",
    " a. __05:45 am__ _in the morning for_ __E5__ _gas_ <br>\n",
    " b. __03:00 am__ _in the morning for_ __E10__ _gas_ <br>\n",
    " c. __14:00 pm__ _in the afternoon for_ __DIESEL__ "
   ]
  },
  {
   "cell_type": "markdown",
   "metadata": {},
   "source": [
    "<a id=section506></a>"
   ]
  },
  {
   "cell_type": "markdown",
   "metadata": {},
   "source": [
    "<a id=section507></a>"
   ]
  },
  {
   "cell_type": "markdown",
   "metadata": {},
   "source": [
    "#### 7. What is the gas station which has most price data points, choose one and draw the time series for all 3 gasoline types?"
   ]
  },
  {
   "cell_type": "code",
   "execution_count": 45,
   "metadata": {
    "scrolled": false
   },
   "outputs": [
    {
     "data": {
      "image/png": "[encoded data removed]",
      "text/plain": [
       "<Figure size 1100x900 with 3 Axes>"
      ]
     },
     "metadata": {},
     "output_type": "display_data"
    }
   ],
   "source": [
    "# Aral is the gas station which has got the most price data points\n",
    "aral_gas_station = gas_station_fuel_prices.loc[gas_station_fuel_prices['BRAND'] == 'ARAL']\n",
    "\n",
    "# Selecting the different types of Gas\n",
    "gas_types = ['E5', 'E10', 'DIESEL']\n",
    "\n",
    "# Plotting time series for 3 gasoline types\n",
    "axes = aral_gas_station[gas_types].plot(marker='.', alpha=0.5, figsize=(11, 9), subplots=True, \n",
    "                                               legend=False\n",
    "                                              )\n",
    "for fuel, ax in zip(gas_types, axes):\n",
    "    ax.set_ylabel(fuel + ' Prices')\n",
    "    ax.set_xlabel('Over the years')\n",
    "    "
   ]
  },
  {
   "cell_type": "markdown",
   "metadata": {},
   "source": [
    "<a id=section508></a>"
   ]
  },
  {
   "cell_type": "markdown",
   "metadata": {},
   "source": [
    "#### 8. At which hour during a day do we have the most price changes?"
   ]
  },
  {
   "cell_type": "markdown",
   "metadata": {},
   "source": [
    "_From the graph above, it is evident that the most price changes in a day have occured at:_ __03:00__ am _in the morning_"
   ]
  },
  {
   "cell_type": "markdown",
   "metadata": {},
   "source": [
    "<a id=section509></a>"
   ]
  },
  {
   "cell_type": "markdown",
   "metadata": {},
   "source": [
    "#### 9. Select 20 gas stations having the longest time history and visualize the average price per month. Use heatmap and only the prices between 12:00-13:00 of E10 and DIESEL"
   ]
  },
  {
   "cell_type": "code",
   "execution_count": 46,
   "metadata": {},
   "outputs": [
    {
     "data": {
      "text/plain": [
       "<matplotlib.axes._subplots.AxesSubplot at 0x17c3ace3438>"
      ]
     },
     "execution_count": 46,
     "metadata": {},
     "output_type": "execute_result"
    },
    {
     "data": {
      "image/png": "[encoded data removed]",
      "text/plain": [
       "<Figure size 800x550 with 2 Axes>"
      ]
     },
     "metadata": {},
     "output_type": "display_data"
    }
   ],
   "source": [
    "# Considering prices between 12:00 and 13:00\n",
    "prices_time_interval = gas_station_fuel_prices.between_time('12:00', '13:00')\n",
    "prices_time_interval = prices_time_interval.loc[:,['BRAND', 'E10', 'DIESEL']]\n",
    "\n",
    "# Grouping by BRAND to get the top 20 for the longest time history\n",
    "top_20_gas_stations_data = gas_station_fuel_prices.groupby(['BRAND']).size().sort_values(ascending=False).head(20)\n",
    "top_20_gas_stations_name = top_20_gas_stations_data.index\n",
    "prices_time_interval = prices_time_interval.loc[prices_time_interval['BRAND'].isin(top_20_gas_stations_name)]\n",
    "\n",
    "# Drawing the heatmap:\n",
    "sns.heatmap(prices_time_interval.corr(), annot=True, linewidths=1)"
   ]
  },
  {
   "cell_type": "markdown",
   "metadata": {},
   "source": [
    "<a id=section510></a>"
   ]
  },
  {
   "cell_type": "markdown",
   "metadata": {},
   "source": [
    "#### 10. Describe a possible business potential in Euros for the customer (textual description in the ipython file). Define the constraints of the business case 5 lines, the answer max 15 lines (high level summary)"
   ]
  },
  {
   "cell_type": "markdown",
   "metadata": {},
   "source": [
    "#### 6. How many different station locations are present in the data (visualize via a map)?"
   ]
  },
  {
   "cell_type": "code",
   "execution_count": 53,
   "metadata": {},
   "outputs": [
    {
     "name": "stdout",
     "output_type": "stream",
     "text": [
      "The unique number of Postal Codes are: 174\n"
     ]
    }
   ],
   "source": [
    "print('The unique number of Postal Codes are: {0}'.format(gas_station_fuel_prices.POST_CODE.nunique()))\n",
    "      "
   ]
  },
  {
   "cell_type": "code",
   "execution_count": 47,
   "metadata": {},
   "outputs": [],
   "source": [
    "map_df = gpd.read_file(\"de_10km.shp\")"
   ]
  },
  {
   "cell_type": "code",
   "execution_count": 48,
   "metadata": {},
   "outputs": [
    {
     "data": {
      "text/plain": [
       "<matplotlib.axes._subplots.AxesSubplot at 0x17c3b7428d0>"
      ]
     },
     "execution_count": 48,
     "metadata": {},
     "output_type": "execute_result"
    },
    {
     "data": {
      "image/png": "[encoded data removed]",
      "text/plain": [
       "<Figure size 800x550 with 1 Axes>"
      ]
     },
     "metadata": {},
     "output_type": "display_data"
    }
   ],
   "source": [
    "\n",
    "map_df.plot()"
   ]
  },
  {
   "cell_type": "code",
   "execution_count": 49,
   "metadata": {},
   "outputs": [
    {
     "data": {
      "text/plain": [
       "[<shapely.geometry.point.Point at 0x17c3c755160>,\n",
       " <shapely.geometry.point.Point at 0x17c3c755080>,\n",
       " <shapely.geometry.point.Point at 0x17c3c7550f0>]"
      ]
     },
     "execution_count": 49,
     "metadata": {},
     "output_type": "execute_result"
    }
   ],
   "source": [
    "geometry=[Point(xy) for xy in zip (gas_station[\"LNG\"],gas_station[\"LAT\"])]\n",
    "geometry[:3]"
   ]
  },
  {
   "cell_type": "code",
   "execution_count": 50,
   "metadata": {},
   "outputs": [
    {
     "data": {
      "text/html": [
       "<div>\n",
       "<style scoped>\n",
       "    .dataframe tbody tr th:only-of-type {\n",
       "        vertical-align: middle;\n",
       "    }\n",
       "\n",
       "    .dataframe tbody tr th {\n",
       "        vertical-align: top;\n",
       "    }\n",
       "\n",
       "    .dataframe thead th {\n",
       "        text-align: right;\n",
       "    }\n",
       "</style>\n",
       "<table border=\"1\" class=\"dataframe\">\n",
       "  <thead>\n",
       "    <tr style=\"text-align: right;\">\n",
       "      <th></th>\n",
       "      <th>ID</th>\n",
       "      <th>BRAND</th>\n",
       "      <th>POST_CODE</th>\n",
       "      <th>LAT</th>\n",
       "      <th>LNG</th>\n",
       "      <th>ADDRESS</th>\n",
       "      <th>geometry</th>\n",
       "    </tr>\n",
       "  </thead>\n",
       "  <tbody>\n",
       "    <tr>\n",
       "      <th>0</th>\n",
       "      <td>d37bee76-91b6-485a-b974-24f1b0d391fa</td>\n",
       "      <td>ARAL</td>\n",
       "      <td>76139</td>\n",
       "      <td>49.020280</td>\n",
       "      <td>8.459429</td>\n",
       "      <td>Aral TankstelleAn der Tagweide76139Karlsruhe</td>\n",
       "      <td>POINT (8.459429 49.0202799)</td>\n",
       "    </tr>\n",
       "    <tr>\n",
       "      <th>1</th>\n",
       "      <td>51d4b652-a095-1aa0-e100-80009459e03a</td>\n",
       "      <td>JET</td>\n",
       "      <td>68169</td>\n",
       "      <td>49.508962</td>\n",
       "      <td>8.467691</td>\n",
       "      <td>JET MANNHEIM UNTERMUEHLAUSTRASSE 83UNTERMUEHLA...</td>\n",
       "      <td>POINT (8.467691 49.5089619)</td>\n",
       "    </tr>\n",
       "    <tr>\n",
       "      <th>2</th>\n",
       "      <td>c7caf231-0e47-40db-92de-9349a2eb2bef</td>\n",
       "      <td>ARAL</td>\n",
       "      <td>67663</td>\n",
       "      <td>49.433754</td>\n",
       "      <td>7.757465</td>\n",
       "      <td>Aral TankstelleTrippstadter Straße67663Kaisers...</td>\n",
       "      <td>POINT (7.7574649 49.433754)</td>\n",
       "    </tr>\n",
       "    <tr>\n",
       "      <th>3</th>\n",
       "      <td>51d4b53b-a095-1aa0-e100-80009459e03a</td>\n",
       "      <td>JET</td>\n",
       "      <td>67655</td>\n",
       "      <td>49.442200</td>\n",
       "      <td>7.748360</td>\n",
       "      <td>JET KAISERSLAUTERN PARISER STR. 167PARISER STR...</td>\n",
       "      <td>POINT (7.748359900000001 49.4421999)</td>\n",
       "    </tr>\n",
       "    <tr>\n",
       "      <th>4</th>\n",
       "      <td>51d4b70f-a095-1aa0-e100-80009459e03a</td>\n",
       "      <td>JET</td>\n",
       "      <td>76726</td>\n",
       "      <td>49.226800</td>\n",
       "      <td>8.374400</td>\n",
       "      <td>JET GERMERSHEIM MUENCHENER STRASSE 12MUENCHENE...</td>\n",
       "      <td>POINT (8.3743999 49.2267999)</td>\n",
       "    </tr>\n",
       "  </tbody>\n",
       "</table>\n",
       "</div>"
      ],
      "text/plain": [
       "                                     ID BRAND POST_CODE        LAT       LNG  \\\n",
       "0  d37bee76-91b6-485a-b974-24f1b0d391fa  ARAL     76139  49.020280  8.459429   \n",
       "1  51d4b652-a095-1aa0-e100-80009459e03a   JET     68169  49.508962  8.467691   \n",
       "2  c7caf231-0e47-40db-92de-9349a2eb2bef  ARAL     67663  49.433754  7.757465   \n",
       "3  51d4b53b-a095-1aa0-e100-80009459e03a   JET     67655  49.442200  7.748360   \n",
       "4  51d4b70f-a095-1aa0-e100-80009459e03a   JET     76726  49.226800  8.374400   \n",
       "\n",
       "                                             ADDRESS  \\\n",
       "0       Aral TankstelleAn der Tagweide76139Karlsruhe   \n",
       "1  JET MANNHEIM UNTERMUEHLAUSTRASSE 83UNTERMUEHLA...   \n",
       "2  Aral TankstelleTrippstadter Straße67663Kaisers...   \n",
       "3  JET KAISERSLAUTERN PARISER STR. 167PARISER STR...   \n",
       "4  JET GERMERSHEIM MUENCHENER STRASSE 12MUENCHENE...   \n",
       "\n",
       "                               geometry  \n",
       "0           POINT (8.459429 49.0202799)  \n",
       "1           POINT (8.467691 49.5089619)  \n",
       "2           POINT (7.7574649 49.433754)  \n",
       "3  POINT (7.748359900000001 49.4421999)  \n",
       "4          POINT (8.3743999 49.2267999)  "
      ]
     },
     "execution_count": 50,
     "metadata": {},
     "output_type": "execute_result"
    }
   ],
   "source": [
    "geo_df = gpd.GeoDataFrame(gas_station,crs=crs, geometry=geometry)\n",
    "geo_df.head()"
   ]
  },
  {
   "cell_type": "code",
   "execution_count": null,
   "metadata": {},
   "outputs": [],
   "source": []
  }
 ],
 "metadata": {
  "kernelspec": {
   "display_name": "Python 3",
   "language": "python",
   "name": "python3"
  },
  "language_info": {
   "codemirror_mode": {
    "name": "ipython",
    "version": 3
   },
   "file_extension": ".py",
   "mimetype": "text/x-python",
   "name": "python",
   "nbconvert_exporter": "python",
   "pygments_lexer": "ipython3",
   "version": "3.7.3"
  }
 },
 "nbformat": 4,
 "nbformat_minor": 2
}
